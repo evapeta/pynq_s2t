{
 "cells": [
  {
   "cell_type": "code",
   "execution_count": 1,
   "id": "4c45e1c6-862b-4a3d-af80-2e2e63d5b727",
   "metadata": {},
   "outputs": [
    {
     "data": {
      "application/javascript": [
       "\n",
       "try {\n",
       "require(['notebook/js/codecell'], function(codecell) {\n",
       "  codecell.CodeCell.options_default.highlight_modes[\n",
       "      'magic_text/x-csrc'] = {'reg':[/^%%microblaze/]};\n",
       "  Jupyter.notebook.events.one('kernel_ready.Kernel', function(){\n",
       "      Jupyter.notebook.get_cells().map(function(cell){\n",
       "          if (cell.cell_type == 'code'){ cell.auto_highlight(); } }) ;\n",
       "  });\n",
       "});\n",
       "} catch (e) {};\n"
      ]
     },
     "metadata": {},
     "output_type": "display_data"
    },
    {
     "data": {
      "application/javascript": [
       "\n",
       "try {\n",
       "require(['notebook/js/codecell'], function(codecell) {\n",
       "  codecell.CodeCell.options_default.highlight_modes[\n",
       "      'magic_text/x-csrc'] = {'reg':[/^%%pybind11/]};\n",
       "  Jupyter.notebook.events.one('kernel_ready.Kernel', function(){\n",
       "      Jupyter.notebook.get_cells().map(function(cell){\n",
       "          if (cell.cell_type == 'code'){ cell.auto_highlight(); } }) ;\n",
       "  });\n",
       "});\n",
       "} catch (e) {};\n"
      ]
     },
     "metadata": {},
     "output_type": "display_data"
    },
    {
     "data": {
      "text/plain": [
       "<pynq.lib.dma._SDMAChannel at 0xaf5fdb50>"
      ]
     },
     "execution_count": 1,
     "metadata": {},
     "output_type": "execute_result"
    }
   ],
   "source": [
    "from pynq import Overlay\n",
    "\n",
    "ol = Overlay('pynq_sdr.bit')\n",
    "ol.axi_dma.recvchannel # Touch to wake\n",
    "ol.axi_dma.sendchannel # Touch to wake"
   ]
  },
  {
   "cell_type": "code",
   "execution_count": 2,
   "id": "0a7bd906-6166-4723-8c62-ceca38879c24",
   "metadata": {},
   "outputs": [],
   "source": [
    "from rtlsdr import RtlSdr\n",
    "from pylab import *\n",
    "\n",
    "sdr = RtlSdr()\n",
    "sdr.sample_rate = 2.048e6  # Hz\n",
    "sdr.center_freq = 101.7e6 # Hz\n",
    "sdr.gain = 'auto'"
   ]
  },
  {
   "cell_type": "code",
   "execution_count": 3,
   "id": "8fda12be-2dd3-418c-b0af-7afd444f9c69",
   "metadata": {},
   "outputs": [
    {
     "data": {
      "image/png": "[encoded data removed]",
      "text/plain": [
       "<Figure size 432x288 with 1 Axes>"
      ]
     },
     "metadata": {
      "needs_background": "light"
     },
     "output_type": "display_data"
    }
   ],
   "source": [
    "buffer_length = 131072\n",
    "samples = sdr.read_samples(buffer_length)\n",
    "\n",
    "psd(samples, NFFT=1024, Fs=sdr.sample_rate/1e6, Fc=sdr.center_freq/1e6)\n",
    "xlabel('Frequency (MHz)')\n",
    "ylabel('Relative power (dB)')\n",
    "\n",
    "show()"
   ]
  },
  {
   "cell_type": "code",
   "execution_count": 4,
   "id": "d9fa897f-4778-48b2-9fc8-0526743a3c17",
   "metadata": {},
   "outputs": [],
   "source": [
    "# configure device\n",
    "sdr.center_freq = 101.7e6 # Hz"
   ]
  },
  {
   "cell_type": "code",
   "execution_count": 5,
   "id": "5f3fd5a1-836d-4460-98c6-b855d08a6b5c",
   "metadata": {},
   "outputs": [],
   "source": [
    "import asyncio\n",
    "import threading\n",
    "import scipy as sp\n",
    "import numpy as np\n",
    "from scipy import signal\n",
    "from pynq import allocate\n",
    "import time\n",
    "\n",
    "data = []\n",
    "data.append(np.ones(shape=(8000,), dtype=np.single))\n",
    "data.append(np.ones(shape=(8000,), dtype=np.single))\n",
    "data.append(np.ones(shape=(8000,), dtype=np.single))\n",
    "mydata = None\n",
    "\n",
    "buffer_length = 512000\n",
    "\n",
    "global_counter = 0\n",
    "\n",
    "tx_buffer = allocate(shape=(buffer_length,), dtype=np.csingle)\n",
    "rx_buffer = allocate(shape=(int(buffer_length/64),), dtype=np.single)\n",
    "\n",
    "def generate_wav(sample_rate, bits_per_sample, channels, samples):\n",
    "    datasize = samples * channels * bits_per_sample // 8\n",
    "    o = bytes(\"RIFF\",'ascii')                                                 # (4byte) Marks file as RIFF\n",
    "    o += (datasize + 36).to_bytes(4,'little')                                 # (4byte) File size in bytes excluding this and RIFF marker\n",
    "    o += bytes(\"WAVE\",'ascii')                                                # (4byte) File type\n",
    "    o += bytes(\"fmt \",'ascii')                                                # (4byte) Format Chunk Marker\n",
    "    o += (16).to_bytes(4,'little')                                            # (4byte) Length of above format data\n",
    "    o += (3).to_bytes(2,'little')                                             # (2byte) Format type (1 - PCM)\n",
    "    o += (channels).to_bytes(2,'little')                                      # (2byte)\n",
    "    o += (sample_rate).to_bytes(4,'little')                                   # (4byte)\n",
    "    o += (sample_rate * channels * bits_per_sample // 8).to_bytes(4,'little') # (4byte)\n",
    "    o += (channels * bits_per_sample // 8).to_bytes(2,'little')               # (2byte)\n",
    "    o += (bits_per_sample).to_bytes(2,'little')                               # (2byte)\n",
    "    o += bytes(\"data\",'ascii')                                                # (4byte) Data Chunk Marker\n",
    "    o += (datasize).to_bytes(4,'little')                                      # (4byte) Data size in bytes\n",
    "    return o\n",
    "\n",
    "def audio_callback():\n",
    "    global data\n",
    "    yield generate_wav(\n",
    "        sample_rate=32000,\n",
    "        bits_per_sample=32,\n",
    "        channels=1,\n",
    "        samples=int(2**28))\n",
    "    while True:\n",
    "        if data:\n",
    "            tempdata = data.pop().tobytes()\n",
    "            yield tempdata\n",
    "        else:\n",
    "            time.sleep(1)\n",
    "\n",
    "def default_callback(samples):\n",
    "    global global_counter\n",
    "    global data\n",
    "    tx_buffer[:] = samples[:]\n",
    "    ol.axi_dma.recvchannel.transfer(rx_buffer)\n",
    "    ol.axi_dma.sendchannel.transfer(tx_buffer)\n",
    "    ol.axi_dma.sendchannel.wait()\n",
    "    ol.axi_dma.recvchannel.wait()\n",
    "    data.append(np.array(rx_buffer))\n",
    "    if len(data) >= 10:\n",
    "        data.pop()\n",
    "    global_counter += 1\n",
    "\n",
    "class AsyncRtlSdr():\n",
    "    \"\"\"Class for streaming RTL-SDR samples from USB device\n",
    "    to the Zynq's PS.\n",
    "    \"\"\"\n",
    "    def __init__(self,\n",
    "                 sdr,\n",
    "                 buffer_length = buffer_length,\n",
    "                 func_callback = [default_callback]):\n",
    "        \"\"\"Create new asynchronous RTL-SDR class.\n",
    "        \"\"\"\n",
    "        self._stopping = True\n",
    "        self._loop = asyncio.get_event_loop()\n",
    "        self._buffer_length = buffer_length\n",
    "        self.sdr = sdr\n",
    "        self.callback = func_callback\n",
    "        \n",
    "    async def _stream(self):\n",
    "        start = time.time()\n",
    "        async for samples in self.sdr.stream(self._buffer_length):\n",
    "            for callback in self.callback:\n",
    "                callback(samples.astype(np.csingle)[:])\n",
    "        end = time.time()\n",
    "        print(end-start)\n",
    "                \n",
    "    def _do(self):\n",
    "        future = asyncio.run_coroutine_threadsafe(self._stream(), self._loop)\n",
    "        future.result()\n",
    "                \n",
    "    def start(self):\n",
    "        thread = threading.Thread(target=self._do)\n",
    "        thread.start()\n",
    "        "
   ]
  },
  {
   "cell_type": "code",
   "execution_count": 6,
   "id": "fc3abce1-eacf-4906-b11c-6166b3959690",
   "metadata": {},
   "outputs": [],
   "source": [
    "async_sdr = AsyncRtlSdr(sdr=sdr)"
   ]
  },
  {
   "cell_type": "code",
   "execution_count": 7,
   "id": "5c66a719-e84a-442e-b6ed-90d91b950942",
   "metadata": {},
   "outputs": [],
   "source": [
    "async_sdr.start()"
   ]
  },
  {
   "cell_type": "code",
   "execution_count": 8,
   "id": "7c827330-5155-48ad-a9ed-3fdc5b315726",
   "metadata": {},
   "outputs": [],
   "source": [
    "from flask import Flask, Response\n",
    "import threading\n",
    "\n",
    "app = Flask(__name__)\n",
    "\n",
    "@app.route(\"/live.wav\")\n",
    "def live():  \n",
    "    return Response(audio_callback(), mimetype=\"audio/x-wav\")\n",
    "\n",
    "from werkzeug.serving import run_simple\n",
    "t = threading.Thread(target=lambda: run_simple('192.168.1.112', 8866, app, threaded=True)).start()"
   ]
  },
  {
   "cell_type": "code",
   "execution_count": 9,
   "id": "2072a6f2-c62b-4185-8d76-1260e7ea0714",
   "metadata": {},
   "outputs": [
    {
     "data": {
      "text/html": [
       "\n",
       "                <audio  controls=\"controls\" >\n",
       "                    <source src=\"http://192.168.1.112:8866/live.wav\" type=\"audio/x-wav\" />\n",
       "                    Your browser does not support the audio element.\n",
       "                </audio>\n",
       "              "
      ],
      "text/plain": [
       "<IPython.lib.display.Audio object>"
      ]
     },
     "execution_count": 9,
     "metadata": {},
     "output_type": "execute_result"
    },
    {
     "name": "stderr",
     "output_type": "stream",
     "text": [
      " * Running on http://192.168.1.112:8866/ (Press CTRL+C to quit)\n",
      "192.168.1.107 - - [14/Mar/2022 21:56:49] \"GET /live.wav HTTP/1.1\" 200 -\n"
     ]
    }
   ],
   "source": [
    "import IPython.display as display\n",
    "\n",
    "display.Audio(url=\"http://192.168.1.112:8866/live.wav\")"
   ]
  },
  {
   "cell_type": "code",
   "execution_count": 14,
   "id": "41f495fb-efe5-422a-94b6-3a9b11650bef",
   "metadata": {},
   "outputs": [],
   "source": [
    "sdr.center_freq = 101.7e6 # Hz"
   ]
  },
  {
   "cell_type": "code",
   "execution_count": 13,
   "id": "2dda4542-18a7-4055-8d85-6d390a4ac29e",
   "metadata": {},
   "outputs": [],
   "source": [
    "# Celtic Music Radio\n",
    "sdr.center_freq = 95e6 # Hz"
   ]
  },
  {
   "cell_type": "code",
   "execution_count": 12,
   "id": "50656d5f-445e-448e-bd46-cce658f2d17c",
   "metadata": {},
   "outputs": [],
   "source": [
    "# Clyde 1\n",
    "sdr.center_freq = 102.5e6 # Hz"
   ]
  },
  {
   "cell_type": "code",
   "execution_count": null,
   "id": "a65f9c42-3ff0-4e41-8f6f-2c08283397ce",
   "metadata": {},
   "outputs": [],
   "source": [
    "# Smooth Radio\n",
    "sdr.center_freq = 106.1 # Hz"
   ]
  }
 ],
 "metadata": {
  "kernelspec": {
   "display_name": "Python 3",
   "language": "python",
   "name": "python3"
  },
  "language_info": {
   "codemirror_mode": {
    "name": "ipython",
    "version": 3
   },
   "file_extension": ".py",
   "mimetype": "text/x-python",
   "name": "python",
   "nbconvert_exporter": "python",
   "pygments_lexer": "ipython3",
   "version": "3.8.2"
  }
 },
 "nbformat": 4,
 "nbformat_minor": 5
}
