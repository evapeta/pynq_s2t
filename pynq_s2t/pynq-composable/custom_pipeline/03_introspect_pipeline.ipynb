{
 "cells": [
  {
   "cell_type": "markdown",
   "metadata": {},
   "source": [
    "# Introspect Composable Pipeline\n",
    "----\n",
    "\n",
    "<div class=\"alert alert-box alert-info\">\n",
    "Please use Jupyter labs http://&lt;board_ip_address&gt;/lab for this notebook.\n",
    "</div>\n",
    "\n",
    "This notebook shows your how to create your first custom pipeline\n",
    "\n",
    "## Aims\n",
    "* Use Composable object\n",
    "* Start the HDMI path\n",
    "* Compose pipeline\n",
    "* Play with the pipeline\n",
    "\n",
    "## Table of Contents\n",
    "* [Download Composable Overlay](#download)\n",
    "* [Start HDMI Video](#start_hdmi)\n",
    "* [Let us Compose](#compose)\n",
    "* [Visualize the Pipeline](#visualize)\n",
    "* [Play with the LUT IP](#play)\n",
    "* [Stop HDMI Video](#stop_hdmi)\n",
    "* [Conclusion](#conclusion)\n",
    "\n",
    "----\n",
    "\n",
    "## Revision History\n",
    "\n",
    "* v1.0 | 30 March 2021 | First notebook revision.\n",
    "* v1.1 | 11 August 2021 | Update notebook to composable overlay API 1.0.0\n",
    "\n",
    "----"
   ]
  },
  {
   "cell_type": "markdown",
   "metadata": {},
   "source": [
    "## Download Composable Overlay <a class=\"anchor\" id=\"download\"></a>\n",
    "\n",
    "Import the pynq video libraries as well as Composable class and the drivers for the IP.\n",
    "\n",
    "Download the Composable Overlay using `pynq.Overlay` and grab a handler to the `composable` hierarchy"
   ]
  },
  {
   "cell_type": "code",
   "execution_count": 1,
   "metadata": {},
   "outputs": [
    {
     "data": {
      "application/javascript": [
       "\n",
       "try {\n",
       "require(['notebook/js/codecell'], function(codecell) {\n",
       "  codecell.CodeCell.options_default.highlight_modes[\n",
       "      'magic_text/x-csrc'] = {'reg':[/^%%microblaze/]};\n",
       "  Jupyter.notebook.events.one('kernel_ready.Kernel', function(){\n",
       "      Jupyter.notebook.get_cells().map(function(cell){\n",
       "          if (cell.cell_type == 'code'){ cell.auto_highlight(); } }) ;\n",
       "  });\n",
       "});\n",
       "} catch (e) {};\n"
      ]
     },
     "metadata": {},
     "output_type": "display_data"
    },
    {
     "data": {
      "application/javascript": [
       "\n",
       "try {\n",
       "require(['notebook/js/codecell'], function(codecell) {\n",
       "  codecell.CodeCell.options_default.highlight_modes[\n",
       "      'magic_text/x-csrc'] = {'reg':[/^%%pybind11/]};\n",
       "  Jupyter.notebook.events.one('kernel_ready.Kernel', function(){\n",
       "      Jupyter.notebook.get_cells().map(function(cell){\n",
       "          if (cell.cell_type == 'code'){ cell.auto_highlight(); } }) ;\n",
       "  });\n",
       "});\n",
       "} catch (e) {};\n"
      ]
     },
     "metadata": {},
     "output_type": "display_data"
    }
   ],
   "source": [
    "from pynq import Overlay\n",
    "from pynq.lib.video import *\n",
    "from pynq_composable import *\n",
    "\n",
    "ol = Overlay(\"cv_dfx_4_pr.bit\")\n",
    "\n",
    "cpipe = ol.composable"
   ]
  },
  {
   "cell_type": "markdown",
   "metadata": {},
   "source": [
    "## Start HDMI Video <a class=\"anchor\" id=\"start_hdmi\"></a>\n",
    "\n",
    "Get `VideoStream` object and start video\n",
    "\n",
    "<div class=\"alert alert-heading alert-danger\">\n",
    "    <h4 class=\"alert-heading\">Warning:</h4>\n",
    "\n",
    "Failure to connect HDMI cables to a valid video source and screen may cause the notebook to hang\n",
    "</div>"
   ]
  },
  {
   "cell_type": "code",
   "execution_count": 2,
   "metadata": {},
   "outputs": [],
   "source": [
    "video = VideoStream(ol)\n",
    "video.start()"
   ]
  },
  {
   "cell_type": "markdown",
   "metadata": {},
   "source": [
    "## Let us Compose <a class=\"anchor\" id=\"compose\"></a>\n",
    "\n",
    "First we need to grab handlers to the IP objects to simplify the notebook"
   ]
  },
  {
   "cell_type": "code",
   "execution_count": 3,
   "metadata": {},
   "outputs": [],
   "source": [
    "filter2d = cpipe.filter2d_accel\n",
    "rgb2gray = cpipe.rgb2gray_accel\n",
    "gray2rgb = cpipe.gray2rgb_accel\n",
    "rgb2hsv = cpipe.rgb2hsv_accel\n",
    "colorthr = cpipe.colorthresholding_accel\n",
    "lut = cpipe.lut_accel"
   ]
  },
  {
   "cell_type": "markdown",
   "metadata": {},
   "source": [
    "This method expect a list with the IP object, based on this list the pipeline will be configured on our FPGA. After you run the next cell the video stream on your monitor should change,"
   ]
  },
  {
   "cell_type": "code",
   "execution_count": 4,
   "metadata": {},
   "outputs": [],
   "source": [
    "video_pipeline = [cpipe.hdmi_source_in, lut, rgb2hsv, rgb2gray, gray2rgb, cpipe.hdmi_source_out]\n",
    "\n",
    "cpipe.compose(video_pipeline)"
   ]
  },
  {
   "cell_type": "markdown",
   "metadata": {},
   "source": [
    "## Visualize the Pipeline <a class=\"anchor\" id=\"visualize\"></a>\n",
    "\n",
    "We can visualize the implemented pipeline with the `.graph` attribute. This allows to quickly verify the pipeline"
   ]
  },
  {
   "cell_type": "code",
   "execution_count": 5,
   "metadata": {},
   "outputs": [
    {
     "data": {
      "image/svg+xml": [
       "<?xml version=\"1.0\" encoding=\"UTF-8\" standalone=\"no\"?>\n",
       "<!DOCTYPE svg PUBLIC \"-//W3C//DTD SVG 1.1//EN\"\n",
       " \"http://www.w3.org/Graphics/SVG/1.1/DTD/svg11.dtd\">\n",
       "<!-- Generated by graphviz version 2.43.0 (0)\n",
       " -->\n",
       "<!-- Title: %1 Pages: 1 -->\n",
       "<svg width=\"1282pt\" height=\"44pt\"\n",
       " viewBox=\"0.00 0.00 1282.00 44.00\" xmlns=\"http://www.w3.org/2000/svg\" xmlns:xlink=\"http://www.w3.org/1999/xlink\">\n",
       "<g id=\"graph0\" class=\"graph\" transform=\"scale(1 1) rotate(0) translate(4 40)\">\n",
       "<title>%1</title>\n",
       "<polygon fill=\"white\" stroke=\"transparent\" points=\"-4,4 -4,-40 1278,-40 1278,4 -4,4\"/>\n",
       "<!-- hdmi_source_in -->\n",
       "<g id=\"node1\" class=\"node\">\n",
       "<title>hdmi_source_in</title>\n",
       "<polygon fill=\"none\" stroke=\"black\" points=\"127,-36 0,-36 0,0 127,0 127,-36\"/>\n",
       "<text text-anchor=\"middle\" x=\"63.5\" y=\"-14.3\" font-family=\"Times,serif\" font-size=\"14.00\">hdmi_source_in</text>\n",
       "</g>\n",
       "<!-- lut_accel -->\n",
       "<g id=\"node2\" class=\"node\">\n",
       "<title>lut_accel</title>\n",
       "<polygon fill=\"none\" stroke=\"black\" points=\"324,-36 245,-36 245,0 324,0 324,-36\"/>\n",
       "<text text-anchor=\"middle\" x=\"284.5\" y=\"-14.3\" font-family=\"Times,serif\" font-size=\"14.00\">lut_accel</text>\n",
       "</g>\n",
       "<!-- hdmi_source_in&#45;&gt;lut_accel -->\n",
       "<g id=\"edge1\" class=\"edge\">\n",
       "<title>hdmi_source_in&#45;&gt;lut_accel</title>\n",
       "<path fill=\"none\" stroke=\"green\" d=\"M127.26,-18C161.32,-18 202.82,-18 234.49,-18\"/>\n",
       "<polygon fill=\"green\" stroke=\"green\" points=\"234.82,-21.5 244.82,-18 234.82,-14.5 234.82,-21.5\"/>\n",
       "<text text-anchor=\"start\" x=\"145\" y=\"-21.8\" font-family=\"Times,serif\" font-size=\"14.00\" fill=\"white\">ci=0 pi=13</text>\n",
       "</g>\n",
       "<!-- rgb2hsv_accel -->\n",
       "<g id=\"node3\" class=\"node\">\n",
       "<title>rgb2hsv_accel</title>\n",
       "<polygon fill=\"none\" stroke=\"black\" points=\"560,-36 442,-36 442,0 560,0 560,-36\"/>\n",
       "<text text-anchor=\"middle\" x=\"501\" y=\"-14.3\" font-family=\"Times,serif\" font-size=\"14.00\">rgb2hsv_accel</text>\n",
       "</g>\n",
       "<!-- lut_accel&#45;&gt;rgb2hsv_accel -->\n",
       "<g id=\"edge2\" class=\"edge\">\n",
       "<title>lut_accel&#45;&gt;rgb2hsv_accel</title>\n",
       "<path fill=\"none\" stroke=\"green\" d=\"M324.34,-18C354.12,-18 395.98,-18 431.36,-18\"/>\n",
       "<polygon fill=\"green\" stroke=\"green\" points=\"431.63,-21.5 441.63,-18 431.63,-14.5 431.63,-21.5\"/>\n",
       "<text text-anchor=\"start\" x=\"342\" y=\"-21.8\" font-family=\"Times,serif\" font-size=\"14.00\" fill=\"white\">ci=13 pi=4</text>\n",
       "</g>\n",
       "<!-- rgb2gray_accel -->\n",
       "<g id=\"node4\" class=\"node\">\n",
       "<title>rgb2gray_accel</title>\n",
       "<polygon fill=\"none\" stroke=\"black\" points=\"794,-36 669,-36 669,0 794,0 794,-36\"/>\n",
       "<text text-anchor=\"middle\" x=\"731.5\" y=\"-14.3\" font-family=\"Times,serif\" font-size=\"14.00\">rgb2gray_accel</text>\n",
       "</g>\n",
       "<!-- rgb2hsv_accel&#45;&gt;rgb2gray_accel -->\n",
       "<g id=\"edge3\" class=\"edge\">\n",
       "<title>rgb2hsv_accel&#45;&gt;rgb2gray_accel</title>\n",
       "<path fill=\"none\" stroke=\"green\" d=\"M560.25,-18C590.2,-18 626.97,-18 658.66,-18\"/>\n",
       "<polygon fill=\"green\" stroke=\"green\" points=\"658.76,-21.5 668.76,-18 658.76,-14.5 658.76,-21.5\"/>\n",
       "<text text-anchor=\"start\" x=\"578\" y=\"-21.8\" font-family=\"Times,serif\" font-size=\"14.00\" fill=\"white\">ci=4 pi=2</text>\n",
       "</g>\n",
       "<!-- gray2rgb_accel -->\n",
       "<g id=\"node5\" class=\"node\">\n",
       "<title>gray2rgb_accel</title>\n",
       "<polygon fill=\"none\" stroke=\"black\" points=\"1028,-36 903,-36 903,0 1028,0 1028,-36\"/>\n",
       "<text text-anchor=\"middle\" x=\"965.5\" y=\"-14.3\" font-family=\"Times,serif\" font-size=\"14.00\">gray2rgb_accel</text>\n",
       "</g>\n",
       "<!-- rgb2gray_accel&#45;&gt;gray2rgb_accel -->\n",
       "<g id=\"edge4\" class=\"edge\">\n",
       "<title>rgb2gray_accel&#45;&gt;gray2rgb_accel</title>\n",
       "<path fill=\"none\" stroke=\"green\" d=\"M794.06,-18C824.35,-18 861.03,-18 892.6,-18\"/>\n",
       "<polygon fill=\"green\" stroke=\"green\" points=\"892.65,-21.5 902.65,-18 892.65,-14.5 892.65,-21.5\"/>\n",
       "<text text-anchor=\"start\" x=\"812\" y=\"-21.8\" font-family=\"Times,serif\" font-size=\"14.00\" fill=\"white\">ci=2 pi=3</text>\n",
       "</g>\n",
       "<!-- hdmi_source_out -->\n",
       "<g id=\"node6\" class=\"node\">\n",
       "<title>hdmi_source_out</title>\n",
       "<polygon fill=\"none\" stroke=\"black\" points=\"1274,-36 1137,-36 1137,0 1274,0 1274,-36\"/>\n",
       "<text text-anchor=\"middle\" x=\"1205.5\" y=\"-14.3\" font-family=\"Times,serif\" font-size=\"14.00\">hdmi_source_out</text>\n",
       "</g>\n",
       "<!-- gray2rgb_accel&#45;&gt;hdmi_source_out -->\n",
       "<g id=\"edge5\" class=\"edge\">\n",
       "<title>gray2rgb_accel&#45;&gt;hdmi_source_out</title>\n",
       "<path fill=\"none\" stroke=\"green\" d=\"M1028.1,-18C1058.18,-18 1094.68,-18 1126.67,-18\"/>\n",
       "<polygon fill=\"green\" stroke=\"green\" points=\"1126.88,-21.5 1136.88,-18 1126.88,-14.5 1126.88,-21.5\"/>\n",
       "<text text-anchor=\"start\" x=\"1046\" y=\"-21.8\" font-family=\"Times,serif\" font-size=\"14.00\" fill=\"white\">ci=3 pi=0</text>\n",
       "</g>\n",
       "</g>\n",
       "</svg>\n"
      ],
      "text/plain": [
       "<graphviz.graphs.Digraph at 0xb36d20b8>"
      ]
     },
     "execution_count": 5,
     "metadata": {},
     "output_type": "execute_result"
    }
   ],
   "source": [
    "cpipe.graph"
   ]
  },
  {
   "cell_type": "markdown",
   "metadata": {},
   "source": [
    "## Tapping <a class=\"anchor\" id=\"tapping\"></a>\n",
    "\n",
    "The `Composable` class provides the `tap` method which is a handy way to grab the output of one of the stages on the pipeline and redirect it to the output of the pipeline. This allows introspection without recomposing a pipeline. `tap` accepts either and index on the pipeline or the IP object. To return to the original pipeline just call `.untap()`\n",
    "\n",
    "<div class=\"alert alert-heading alert-warning\">\n",
    "Tapping is not supported on branches\n",
    "</div>"
   ]
  },
  {
   "cell_type": "code",
   "execution_count": 6,
   "metadata": {},
   "outputs": [
    {
     "data": {
      "text/plain": [
       "\u001b[0;31mSignature:\u001b[0m \u001b[0mcpipe\u001b[0m\u001b[0;34m.\u001b[0m\u001b[0mtap\u001b[0m\u001b[0;34m(\u001b[0m\u001b[0mip\u001b[0m\u001b[0;34m:\u001b[0m \u001b[0mUnion\u001b[0m\u001b[0;34m[\u001b[0m\u001b[0mType\u001b[0m\u001b[0;34m[\u001b[0m\u001b[0mpynq\u001b[0m\u001b[0;34m.\u001b[0m\u001b[0moverlay\u001b[0m\u001b[0;34m.\u001b[0m\u001b[0mDefaultIP\u001b[0m\u001b[0;34m]\u001b[0m\u001b[0;34m,\u001b[0m \u001b[0mint\u001b[0m\u001b[0;34m]\u001b[0m \u001b[0;34m=\u001b[0m \u001b[0;32mNone\u001b[0m\u001b[0;34m)\u001b[0m \u001b[0;34m->\u001b[0m \u001b[0;32mNone\u001b[0m\u001b[0;34m\u001b[0m\u001b[0;34m\u001b[0m\u001b[0m\n",
       "\u001b[0;31mDocstring:\u001b[0m\n",
       "Observe the output of an IP object in the current pipeline\n",
       "\n",
       "Tap into the output of any of the IP cores in the current pipeline\n",
       "Note that tap is not supported in a branch\n",
       "\n",
       "You can tap by passing the IP name or the index of the IP in the list.\n",
       "\n",
       "Note that tap does not modify the attribute current_pipeline\n",
       "\n",
       "Parameters\n",
       "----------\n",
       "ip:\n",
       "    Either an IP object in the current pipeline to be tapped or\n",
       "    index of IP object in the current pipeline to be tapped\n",
       "\n",
       "Examples:\n",
       "    tap(cpipe.pr_1.dilate)\n",
       "    tap(6)\n",
       "\u001b[0;31mFile:\u001b[0m      /usr/local/share/pynq-venv/lib/python3.8/site-packages/pynq_composable/composable.py\n",
       "\u001b[0;31mType:\u001b[0m      method\n"
      ]
     },
     "metadata": {},
     "output_type": "display_data"
    }
   ],
   "source": [
    "cpipe.tap?"
   ]
  },
  {
   "cell_type": "code",
   "execution_count": 7,
   "metadata": {},
   "outputs": [
    {
     "data": {
      "image/svg+xml": [
       "<?xml version=\"1.0\" encoding=\"UTF-8\" standalone=\"no\"?>\n",
       "<!DOCTYPE svg PUBLIC \"-//W3C//DTD SVG 1.1//EN\"\n",
       " \"http://www.w3.org/Graphics/SVG/1.1/DTD/svg11.dtd\">\n",
       "<!-- Generated by graphviz version 2.43.0 (0)\n",
       " -->\n",
       "<!-- Title: %1 Pages: 1 -->\n",
       "<svg width=\"587pt\" height=\"44pt\"\n",
       " viewBox=\"0.00 0.00 587.00 44.00\" xmlns=\"http://www.w3.org/2000/svg\" xmlns:xlink=\"http://www.w3.org/1999/xlink\">\n",
       "<g id=\"graph0\" class=\"graph\" transform=\"scale(1 1) rotate(0) translate(4 40)\">\n",
       "<title>%1</title>\n",
       "<polygon fill=\"white\" stroke=\"transparent\" points=\"-4,4 -4,-40 583,-40 583,4 -4,4\"/>\n",
       "<!-- hdmi_source_in -->\n",
       "<g id=\"node1\" class=\"node\">\n",
       "<title>hdmi_source_in</title>\n",
       "<polygon fill=\"none\" stroke=\"black\" points=\"127,-36 0,-36 0,0 127,0 127,-36\"/>\n",
       "<text text-anchor=\"middle\" x=\"63.5\" y=\"-14.3\" font-family=\"Times,serif\" font-size=\"14.00\">hdmi_source_in</text>\n",
       "</g>\n",
       "<!-- lut_accel -->\n",
       "<g id=\"node2\" class=\"node\">\n",
       "<title>lut_accel</title>\n",
       "<polygon fill=\"none\" stroke=\"black\" points=\"324,-36 245,-36 245,0 324,0 324,-36\"/>\n",
       "<text text-anchor=\"middle\" x=\"284.5\" y=\"-14.3\" font-family=\"Times,serif\" font-size=\"14.00\">lut_accel</text>\n",
       "</g>\n",
       "<!-- hdmi_source_in&#45;&gt;lut_accel -->\n",
       "<g id=\"edge1\" class=\"edge\">\n",
       "<title>hdmi_source_in&#45;&gt;lut_accel</title>\n",
       "<path fill=\"none\" stroke=\"green\" d=\"M127.26,-18C161.32,-18 202.82,-18 234.49,-18\"/>\n",
       "<polygon fill=\"green\" stroke=\"green\" points=\"234.82,-21.5 244.82,-18 234.82,-14.5 234.82,-21.5\"/>\n",
       "<text text-anchor=\"start\" x=\"145\" y=\"-21.8\" font-family=\"Times,serif\" font-size=\"14.00\" fill=\"white\">ci=0 pi=13</text>\n",
       "</g>\n",
       "<!-- hdmi_source_out -->\n",
       "<g id=\"node3\" class=\"node\">\n",
       "<title>hdmi_source_out</title>\n",
       "<polygon fill=\"none\" stroke=\"black\" points=\"579,-36 442,-36 442,0 579,0 579,-36\"/>\n",
       "<text text-anchor=\"middle\" x=\"510.5\" y=\"-14.3\" font-family=\"Times,serif\" font-size=\"14.00\">hdmi_source_out</text>\n",
       "</g>\n",
       "<!-- lut_accel&#45;&gt;hdmi_source_out -->\n",
       "<g id=\"edge2\" class=\"edge\">\n",
       "<title>lut_accel&#45;&gt;hdmi_source_out</title>\n",
       "<path fill=\"none\" stroke=\"green\" d=\"M324.01,-18C353.51,-18 395.18,-18 431.56,-18\"/>\n",
       "<polygon fill=\"green\" stroke=\"green\" points=\"431.67,-21.5 441.67,-18 431.67,-14.5 431.67,-21.5\"/>\n",
       "<text text-anchor=\"start\" x=\"342\" y=\"-21.8\" font-family=\"Times,serif\" font-size=\"14.00\" fill=\"white\">ci=13 pi=0</text>\n",
       "</g>\n",
       "</g>\n",
       "</svg>\n"
      ],
      "text/plain": [
       "<graphviz.graphs.Digraph at 0xa2334280>"
      ]
     },
     "execution_count": 7,
     "metadata": {},
     "output_type": "execute_result"
    }
   ],
   "source": [
    "cpipe.tap(lut)\n",
    "\n",
    "cpipe.graph"
   ]
  },
  {
   "cell_type": "code",
   "execution_count": 8,
   "metadata": {},
   "outputs": [
    {
     "data": {
      "image/svg+xml": [
       "<?xml version=\"1.0\" encoding=\"UTF-8\" standalone=\"no\"?>\n",
       "<!DOCTYPE svg PUBLIC \"-//W3C//DTD SVG 1.1//EN\"\n",
       " \"http://www.w3.org/Graphics/SVG/1.1/DTD/svg11.dtd\">\n",
       "<!-- Generated by graphviz version 2.43.0 (0)\n",
       " -->\n",
       "<!-- Title: %1 Pages: 1 -->\n",
       "<svg width=\"1048pt\" height=\"44pt\"\n",
       " viewBox=\"0.00 0.00 1048.00 44.00\" xmlns=\"http://www.w3.org/2000/svg\" xmlns:xlink=\"http://www.w3.org/1999/xlink\">\n",
       "<g id=\"graph0\" class=\"graph\" transform=\"scale(1 1) rotate(0) translate(4 40)\">\n",
       "<title>%1</title>\n",
       "<polygon fill=\"white\" stroke=\"transparent\" points=\"-4,4 -4,-40 1044,-40 1044,4 -4,4\"/>\n",
       "<!-- hdmi_source_in -->\n",
       "<g id=\"node1\" class=\"node\">\n",
       "<title>hdmi_source_in</title>\n",
       "<polygon fill=\"none\" stroke=\"black\" points=\"127,-36 0,-36 0,0 127,0 127,-36\"/>\n",
       "<text text-anchor=\"middle\" x=\"63.5\" y=\"-14.3\" font-family=\"Times,serif\" font-size=\"14.00\">hdmi_source_in</text>\n",
       "</g>\n",
       "<!-- lut_accel -->\n",
       "<g id=\"node2\" class=\"node\">\n",
       "<title>lut_accel</title>\n",
       "<polygon fill=\"none\" stroke=\"black\" points=\"324,-36 245,-36 245,0 324,0 324,-36\"/>\n",
       "<text text-anchor=\"middle\" x=\"284.5\" y=\"-14.3\" font-family=\"Times,serif\" font-size=\"14.00\">lut_accel</text>\n",
       "</g>\n",
       "<!-- hdmi_source_in&#45;&gt;lut_accel -->\n",
       "<g id=\"edge1\" class=\"edge\">\n",
       "<title>hdmi_source_in&#45;&gt;lut_accel</title>\n",
       "<path fill=\"none\" stroke=\"green\" d=\"M127.26,-18C161.32,-18 202.82,-18 234.49,-18\"/>\n",
       "<polygon fill=\"green\" stroke=\"green\" points=\"234.82,-21.5 244.82,-18 234.82,-14.5 234.82,-21.5\"/>\n",
       "<text text-anchor=\"start\" x=\"145\" y=\"-21.8\" font-family=\"Times,serif\" font-size=\"14.00\" fill=\"white\">ci=0 pi=13</text>\n",
       "</g>\n",
       "<!-- rgb2hsv_accel -->\n",
       "<g id=\"node3\" class=\"node\">\n",
       "<title>rgb2hsv_accel</title>\n",
       "<polygon fill=\"none\" stroke=\"black\" points=\"560,-36 442,-36 442,0 560,0 560,-36\"/>\n",
       "<text text-anchor=\"middle\" x=\"501\" y=\"-14.3\" font-family=\"Times,serif\" font-size=\"14.00\">rgb2hsv_accel</text>\n",
       "</g>\n",
       "<!-- lut_accel&#45;&gt;rgb2hsv_accel -->\n",
       "<g id=\"edge2\" class=\"edge\">\n",
       "<title>lut_accel&#45;&gt;rgb2hsv_accel</title>\n",
       "<path fill=\"none\" stroke=\"green\" d=\"M324.34,-18C354.12,-18 395.98,-18 431.36,-18\"/>\n",
       "<polygon fill=\"green\" stroke=\"green\" points=\"431.63,-21.5 441.63,-18 431.63,-14.5 431.63,-21.5\"/>\n",
       "<text text-anchor=\"start\" x=\"342\" y=\"-21.8\" font-family=\"Times,serif\" font-size=\"14.00\" fill=\"white\">ci=13 pi=4</text>\n",
       "</g>\n",
       "<!-- rgb2gray_accel -->\n",
       "<g id=\"node4\" class=\"node\">\n",
       "<title>rgb2gray_accel</title>\n",
       "<polygon fill=\"none\" stroke=\"black\" points=\"794,-36 669,-36 669,0 794,0 794,-36\"/>\n",
       "<text text-anchor=\"middle\" x=\"731.5\" y=\"-14.3\" font-family=\"Times,serif\" font-size=\"14.00\">rgb2gray_accel</text>\n",
       "</g>\n",
       "<!-- rgb2hsv_accel&#45;&gt;rgb2gray_accel -->\n",
       "<g id=\"edge3\" class=\"edge\">\n",
       "<title>rgb2hsv_accel&#45;&gt;rgb2gray_accel</title>\n",
       "<path fill=\"none\" stroke=\"green\" d=\"M560.25,-18C590.2,-18 626.97,-18 658.66,-18\"/>\n",
       "<polygon fill=\"green\" stroke=\"green\" points=\"658.76,-21.5 668.76,-18 658.76,-14.5 658.76,-21.5\"/>\n",
       "<text text-anchor=\"start\" x=\"578\" y=\"-21.8\" font-family=\"Times,serif\" font-size=\"14.00\" fill=\"white\">ci=4 pi=2</text>\n",
       "</g>\n",
       "<!-- hdmi_source_out -->\n",
       "<g id=\"node5\" class=\"node\">\n",
       "<title>hdmi_source_out</title>\n",
       "<polygon fill=\"none\" stroke=\"black\" points=\"1040,-36 903,-36 903,0 1040,0 1040,-36\"/>\n",
       "<text text-anchor=\"middle\" x=\"971.5\" y=\"-14.3\" font-family=\"Times,serif\" font-size=\"14.00\">hdmi_source_out</text>\n",
       "</g>\n",
       "<!-- rgb2gray_accel&#45;&gt;hdmi_source_out -->\n",
       "<g id=\"edge4\" class=\"edge\">\n",
       "<title>rgb2gray_accel&#45;&gt;hdmi_source_out</title>\n",
       "<path fill=\"none\" stroke=\"green\" d=\"M794.1,-18C824.18,-18 860.68,-18 892.67,-18\"/>\n",
       "<polygon fill=\"green\" stroke=\"green\" points=\"892.88,-21.5 902.88,-18 892.88,-14.5 892.88,-21.5\"/>\n",
       "<text text-anchor=\"start\" x=\"812\" y=\"-21.8\" font-family=\"Times,serif\" font-size=\"14.00\" fill=\"white\">ci=2 pi=0</text>\n",
       "</g>\n",
       "</g>\n",
       "</svg>\n"
      ],
      "text/plain": [
       "<graphviz.graphs.Digraph at 0xa23341a8>"
      ]
     },
     "execution_count": 8,
     "metadata": {},
     "output_type": "execute_result"
    }
   ],
   "source": [
    "cpipe.tap(3)\n",
    "\n",
    "cpipe.graph"
   ]
  },
  {
   "cell_type": "code",
   "execution_count": 9,
   "metadata": {},
   "outputs": [
    {
     "data": {
      "image/svg+xml": [
       "<?xml version=\"1.0\" encoding=\"UTF-8\" standalone=\"no\"?>\n",
       "<!DOCTYPE svg PUBLIC \"-//W3C//DTD SVG 1.1//EN\"\n",
       " \"http://www.w3.org/Graphics/SVG/1.1/DTD/svg11.dtd\">\n",
       "<!-- Generated by graphviz version 2.43.0 (0)\n",
       " -->\n",
       "<!-- Title: %1 Pages: 1 -->\n",
       "<svg width=\"1282pt\" height=\"44pt\"\n",
       " viewBox=\"0.00 0.00 1282.00 44.00\" xmlns=\"http://www.w3.org/2000/svg\" xmlns:xlink=\"http://www.w3.org/1999/xlink\">\n",
       "<g id=\"graph0\" class=\"graph\" transform=\"scale(1 1) rotate(0) translate(4 40)\">\n",
       "<title>%1</title>\n",
       "<polygon fill=\"white\" stroke=\"transparent\" points=\"-4,4 -4,-40 1278,-40 1278,4 -4,4\"/>\n",
       "<!-- hdmi_source_in -->\n",
       "<g id=\"node1\" class=\"node\">\n",
       "<title>hdmi_source_in</title>\n",
       "<polygon fill=\"none\" stroke=\"black\" points=\"127,-36 0,-36 0,0 127,0 127,-36\"/>\n",
       "<text text-anchor=\"middle\" x=\"63.5\" y=\"-14.3\" font-family=\"Times,serif\" font-size=\"14.00\">hdmi_source_in</text>\n",
       "</g>\n",
       "<!-- lut_accel -->\n",
       "<g id=\"node2\" class=\"node\">\n",
       "<title>lut_accel</title>\n",
       "<polygon fill=\"none\" stroke=\"black\" points=\"324,-36 245,-36 245,0 324,0 324,-36\"/>\n",
       "<text text-anchor=\"middle\" x=\"284.5\" y=\"-14.3\" font-family=\"Times,serif\" font-size=\"14.00\">lut_accel</text>\n",
       "</g>\n",
       "<!-- hdmi_source_in&#45;&gt;lut_accel -->\n",
       "<g id=\"edge1\" class=\"edge\">\n",
       "<title>hdmi_source_in&#45;&gt;lut_accel</title>\n",
       "<path fill=\"none\" stroke=\"green\" d=\"M127.26,-18C161.32,-18 202.82,-18 234.49,-18\"/>\n",
       "<polygon fill=\"green\" stroke=\"green\" points=\"234.82,-21.5 244.82,-18 234.82,-14.5 234.82,-21.5\"/>\n",
       "<text text-anchor=\"start\" x=\"145\" y=\"-21.8\" font-family=\"Times,serif\" font-size=\"14.00\" fill=\"white\">ci=0 pi=13</text>\n",
       "</g>\n",
       "<!-- rgb2hsv_accel -->\n",
       "<g id=\"node3\" class=\"node\">\n",
       "<title>rgb2hsv_accel</title>\n",
       "<polygon fill=\"none\" stroke=\"black\" points=\"560,-36 442,-36 442,0 560,0 560,-36\"/>\n",
       "<text text-anchor=\"middle\" x=\"501\" y=\"-14.3\" font-family=\"Times,serif\" font-size=\"14.00\">rgb2hsv_accel</text>\n",
       "</g>\n",
       "<!-- lut_accel&#45;&gt;rgb2hsv_accel -->\n",
       "<g id=\"edge2\" class=\"edge\">\n",
       "<title>lut_accel&#45;&gt;rgb2hsv_accel</title>\n",
       "<path fill=\"none\" stroke=\"green\" d=\"M324.34,-18C354.12,-18 395.98,-18 431.36,-18\"/>\n",
       "<polygon fill=\"green\" stroke=\"green\" points=\"431.63,-21.5 441.63,-18 431.63,-14.5 431.63,-21.5\"/>\n",
       "<text text-anchor=\"start\" x=\"342\" y=\"-21.8\" font-family=\"Times,serif\" font-size=\"14.00\" fill=\"white\">ci=13 pi=4</text>\n",
       "</g>\n",
       "<!-- rgb2gray_accel -->\n",
       "<g id=\"node4\" class=\"node\">\n",
       "<title>rgb2gray_accel</title>\n",
       "<polygon fill=\"none\" stroke=\"black\" points=\"794,-36 669,-36 669,0 794,0 794,-36\"/>\n",
       "<text text-anchor=\"middle\" x=\"731.5\" y=\"-14.3\" font-family=\"Times,serif\" font-size=\"14.00\">rgb2gray_accel</text>\n",
       "</g>\n",
       "<!-- rgb2hsv_accel&#45;&gt;rgb2gray_accel -->\n",
       "<g id=\"edge3\" class=\"edge\">\n",
       "<title>rgb2hsv_accel&#45;&gt;rgb2gray_accel</title>\n",
       "<path fill=\"none\" stroke=\"green\" d=\"M560.25,-18C590.2,-18 626.97,-18 658.66,-18\"/>\n",
       "<polygon fill=\"green\" stroke=\"green\" points=\"658.76,-21.5 668.76,-18 658.76,-14.5 658.76,-21.5\"/>\n",
       "<text text-anchor=\"start\" x=\"578\" y=\"-21.8\" font-family=\"Times,serif\" font-size=\"14.00\" fill=\"white\">ci=4 pi=2</text>\n",
       "</g>\n",
       "<!-- gray2rgb_accel -->\n",
       "<g id=\"node5\" class=\"node\">\n",
       "<title>gray2rgb_accel</title>\n",
       "<polygon fill=\"none\" stroke=\"black\" points=\"1028,-36 903,-36 903,0 1028,0 1028,-36\"/>\n",
       "<text text-anchor=\"middle\" x=\"965.5\" y=\"-14.3\" font-family=\"Times,serif\" font-size=\"14.00\">gray2rgb_accel</text>\n",
       "</g>\n",
       "<!-- rgb2gray_accel&#45;&gt;gray2rgb_accel -->\n",
       "<g id=\"edge4\" class=\"edge\">\n",
       "<title>rgb2gray_accel&#45;&gt;gray2rgb_accel</title>\n",
       "<path fill=\"none\" stroke=\"green\" d=\"M794.06,-18C824.35,-18 861.03,-18 892.6,-18\"/>\n",
       "<polygon fill=\"green\" stroke=\"green\" points=\"892.65,-21.5 902.65,-18 892.65,-14.5 892.65,-21.5\"/>\n",
       "<text text-anchor=\"start\" x=\"812\" y=\"-21.8\" font-family=\"Times,serif\" font-size=\"14.00\" fill=\"white\">ci=2 pi=3</text>\n",
       "</g>\n",
       "<!-- hdmi_source_out -->\n",
       "<g id=\"node6\" class=\"node\">\n",
       "<title>hdmi_source_out</title>\n",
       "<polygon fill=\"none\" stroke=\"black\" points=\"1274,-36 1137,-36 1137,0 1274,0 1274,-36\"/>\n",
       "<text text-anchor=\"middle\" x=\"1205.5\" y=\"-14.3\" font-family=\"Times,serif\" font-size=\"14.00\">hdmi_source_out</text>\n",
       "</g>\n",
       "<!-- gray2rgb_accel&#45;&gt;hdmi_source_out -->\n",
       "<g id=\"edge5\" class=\"edge\">\n",
       "<title>gray2rgb_accel&#45;&gt;hdmi_source_out</title>\n",
       "<path fill=\"none\" stroke=\"green\" d=\"M1028.1,-18C1058.18,-18 1094.68,-18 1126.67,-18\"/>\n",
       "<polygon fill=\"green\" stroke=\"green\" points=\"1126.88,-21.5 1136.88,-18 1126.88,-14.5 1126.88,-21.5\"/>\n",
       "<text text-anchor=\"start\" x=\"1046\" y=\"-21.8\" font-family=\"Times,serif\" font-size=\"14.00\" fill=\"white\">ci=3 pi=0</text>\n",
       "</g>\n",
       "</g>\n",
       "</svg>\n"
      ],
      "text/plain": [
       "<graphviz.graphs.Digraph at 0xa2334040>"
      ]
     },
     "execution_count": 9,
     "metadata": {},
     "output_type": "execute_result"
    }
   ],
   "source": [
    "cpipe.untap()\n",
    "\n",
    "cpipe.graph"
   ]
  },
  {
   "cell_type": "markdown",
   "metadata": {},
   "source": [
    "## Stop HDMI Video <a class=\"anchor\" id=\"stop_hdmi\"></a>\n",
    "\n",
    "Finally stop the HDMI video pipeline\n",
    "\n",
    "<div class=\"alert alert-heading alert-danger\">\n",
    "    <h4 class=\"alert-heading\">Warning:</h4>\n",
    "\n",
    "Failure to stop the HDMI Video may hang the board \n",
    "when trying to download another bitstream onto the FPGA\n",
    "</div>"
   ]
  },
  {
   "cell_type": "code",
   "execution_count": 10,
   "metadata": {},
   "outputs": [],
   "source": [
    "video.stop()\n",
    "ol.free()"
   ]
  },
  {
   "cell_type": "markdown",
   "metadata": {},
   "source": [
    "----\n",
    "\n",
    "## Conclusion <a class=\"anchor\" id=\"conclusion\"></a>\n",
    "\n",
    "This notebook has shown how to compose a simple pipeline, how to visualize what has been implemented and how to interact with one of the IP objects on the pipeline\n",
    "\n",
    "[⬅️ First Custom Pipeline](02_first_custom_pipeline.ipynb) | | [Modify Composable Pipeline ➡️](04_modify_pipeline.ipynb)"
   ]
  },
  {
   "cell_type": "markdown",
   "metadata": {},
   "source": [
    "Copyright &copy; 2021 Xilinx, Inc\n",
    "\n",
    "SPDX-License-Identifier: BSD-3-Clause\n",
    "\n",
    "----"
   ]
  }
 ],
 "metadata": {
  "kernelspec": {
   "display_name": "Python 3",
   "language": "python",
   "name": "python3"
  },
  "language_info": {
   "codemirror_mode": {
    "name": "ipython",
    "version": 3
   },
   "file_extension": ".py",
   "mimetype": "text/x-python",
   "name": "python",
   "nbconvert_exporter": "python",
   "pygments_lexer": "ipython3",
   "version": "3.8.2"
  },
  "widgets": {
   "application/vnd.jupyter.widget-state+json": {
    "state": {},
    "version_major": 2,
    "version_minor": 0
   }
  }
 },
 "nbformat": 4,
 "nbformat_minor": 4
}
