{
 "cells": [
  {
   "cell_type": "markdown",
   "metadata": {},
   "source": [
    "# Download Video(s)\n",
    "----\n",
    "\n",
    "<div class=\"alert alert-box alert-info\">\n",
    "Please use Jupyter labs http://&lt;board_ip_address&gt;/lab for this notebook.\n",
    "</div>\n",
    "\n",
    "The composable overlay supports video files as input source by leveraging OpenCV. This notebooks describes how to download a test video from [Pixabay](https://pixabay.com/)\n",
    "\n",
    "## Aims\n",
    "* Show how to download a test video\n",
    "\n",
    "## Table of Contents\n",
    "* [Introduction](#intro)\n",
    "* [Download a Video](#download)\n",
    "* [Conclusion](#conclusion)\n",
    "\n",
    "----\n",
    "\n",
    "## Revision History\n",
    "\n",
    "* v1.0 | 06 September 2021 | First notebook revision.\n",
    "\n",
    "----"
   ]
  },
  {
   "cell_type": "markdown",
   "metadata": {},
   "source": [
    "## Introduction <a class=\"anchor\" id=\"intro\"></a>\n",
    "\n",
    "Pixabay is a vibrant community of creatives, sharing copyright free images, videos and music. All contents are released under the [Pixabay License](https://pixabay.com/service/license/), which makes them safe to use without asking for permission or giving credit to the artist - even for commercial purposes."
   ]
  },
  {
   "cell_type": "markdown",
   "metadata": {},
   "source": [
    "## Download a Video <a class=\"anchor\" id=\"download\"></a>\n",
    "\n",
    "In order to download the video, you need to go to this Pixabay url https://pixabay.com/videos/mountains-nature-landscape-clouds-48873/\n",
    "\n",
    "Download the video by:\n",
    "\n",
    "1. clicking `Free Download` button \n",
    "\n",
    "1. Select `1280x720`\n",
    "\n",
    "1. Click `Download`\n",
    "\n",
    "![](img/pixabay_video.png)\n",
    "\n",
    "This will start the download of the video on your computer. Once the video is downloaded, drag it to the File Browser on Juptyer Lab and rename it to `mountains.mp4`\n",
    "\n",
    "You can search for other videos in the Pixabay page and follow the same procedure to download them. You can download video files with a resolutions of `1920x1080` as well, but this will require some minor modification on the notebooks"
   ]
  },
  {
   "cell_type": "markdown",
   "metadata": {},
   "source": [
    "## Conclusion <a class=\"anchor\" id=\"conclusion\"></a>\n",
    "\n",
    "This notebooks showed how to download a video file from Pixabay\n",
    "\n",
    "[⬅️ Introduction to Image Processing](02_vision_intro.ipynb) | |"
   ]
  },
  {
   "cell_type": "markdown",
   "metadata": {},
   "source": [
    "Copyright &copy; 2021 Xilinx, Inc\n",
    "\n",
    "SPDX-License-Identifier: BSD-3-Clause\n",
    "\n",
    "----"
   ]
  }
 ],
 "metadata": {
  "kernelspec": {
   "display_name": "Python 3",
   "language": "python",
   "name": "python3"
  },
  "language_info": {
   "codemirror_mode": {
    "name": "ipython",
    "version": 3
   },
   "file_extension": ".py",
   "mimetype": "text/x-python",
   "name": "python",
   "nbconvert_exporter": "python",
   "pygments_lexer": "ipython3",
   "version": "3.8.2"
  },
  "widgets": {
   "application/vnd.jupyter.widget-state+json": {
    "state": {},
    "version_major": 2,
    "version_minor": 0
   }
  }
 },
 "nbformat": 4,
 "nbformat_minor": 4
}
