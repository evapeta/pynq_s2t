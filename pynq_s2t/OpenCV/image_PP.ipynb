{
 "cells": [
  {
   "cell_type": "markdown",
   "id": "b5a92b37-fa6d-4c81-bb60-99c442e8e036",
   "metadata": {},
   "source": [
    "# Post Processing of Subtitled Output\n",
    " This file hosts the post processing functions for the output .json files from rev.ai.       \n",
    " Functions held are:                                                                         \n",
    "                                                                                             \n",
    "        1. 'structuredsub' which outputs the correct timing for the subtitles and            \n",
    "            their respective timings;                                                        \n",
    "                                                                                             \n",
    "        2. 'framenumber' which outputs the corresponding frames from the different subtitle  \n",
    "            starting times;                                                                  \n",
    "                                                                                             \n",
    "        3. 'subtitle_output' which displays the subtitles on the clear frame in a visable way, before overlay. \n"
   ]
  },
  {
   "cell_type": "markdown",
   "id": "1b0868f4-ecf6-41fc-b699-0218146efd72",
   "metadata": {},
   "source": [
    "## Relavent imported modules:"
   ]
  },
  {
   "cell_type": "code",
   "execution_count": null,
   "id": "60711406-887a-4558-8963-2116b4d2fba3",
   "metadata": {},
   "outputs": [],
   "source": [
    "import json\n",
    "import math\n",
    "import cv2\n",
    "import numpy as np"
   ]
  },
  {
   "cell_type": "markdown",
   "id": "3281b9f9-cb3a-428c-80fd-793f3198118e",
   "metadata": {},
   "source": [
    "## 1. Processing .json files:"
   ]
  },
  {
   "cell_type": "code",
   "execution_count": 1,
   "id": "7d40d9ab-d2c7-4d64-bdf2-a95941da4278",
   "metadata": {},
   "outputs": [],
   "source": [
    "def structuredsub(filename):\n",
    "\n",
    "    import json\n",
    "    import math\n",
    "\n",
    "    with open(filename) as f:\n",
    "        dictionary = json.load(f) # loading in file as dictionary\n",
    "       \n",
    "    elements = dictionary['monologues'][0]['elements']\n",
    "    sub_len = len(elements)\n",
    "\n",
    "    # Subtitle Content for Extraction\n",
    "    subtitles_value = [0] * sub_len \n",
    "    subtitles_start = [0] * sub_len\n",
    "    subtitles_end   = [0] * sub_len\n",
    "    \n",
    "    # Getting the subtitle value and its timing \n",
    "    for i in range(0, sub_len):\n",
    "        sub = elements[i]\n",
    "            \n",
    "        # Value of Subtitle in Dictionary\n",
    "        sub_val  = sub['value']\n",
    "        subtitles_value[i] = sub_val\n",
    "        \n",
    "        # Start times and durations\n",
    "        if 'ts' in sub.keys():\n",
    "            start_t =  sub['ts']\n",
    "            end_t   =  sub['end_ts']\n",
    "            \n",
    "            subtitles_start[i] = start_t\n",
    "            subtitles_end[i]   = end_t\n",
    "            \n",
    "        else:\n",
    "            subtitles_start[i] = 0\n",
    "            subtitles_end[i]   = 0\n",
    "\n",
    "    # Start and Ending Times of Captioning:\n",
    "    end_Time = end_t\n",
    "    start_Time = subtitles_start[0]\n",
    "    T = end_Time - start_Time\n",
    "    \n",
    "    # Using subtitling standard to define subtitle structure:\n",
    "    length = 6 # change subtitles every 6s\n",
    "    n = math.ceil(T/length)\n",
    "\n",
    "    caption_list = [0] * n\n",
    "    indices_list = [0] * n\n",
    "    start_list   = [0] * n\n",
    "    timing_list  = [0] * n\n",
    "    \n",
    "    j = 0\n",
    "    Delta_t = 0\n",
    "    indices = []\n",
    "    captions = []\n",
    "\n",
    "    for i in range(0, sub_len):\n",
    "        ti = subtitles_start[i]\n",
    "        tf = subtitles_end[i]\n",
    "        occupied_t = round((tf - ti), 2) # time taken to say one word\n",
    "        \n",
    "        delta_t = round((Delta_t + occupied_t), 2)\n",
    "        cap = subtitles_value[i]\n",
    "        \n",
    "        if math.ceil(delta_t) < 5:\n",
    "            Delta_t = delta_t\n",
    "            indices.append(i)\n",
    "            captions.append(cap)\n",
    "            \n",
    "        elif math.ceil(delta_t) == 5:\n",
    "            caption_list[j] = captions\n",
    "            indices_list[j] = indices\n",
    "            start_list[j]   = round((ti - round(delta_t, 2)), 2)\n",
    "            timing_list[j]  = round(delta_t, 2)\n",
    "            \n",
    "            Delta_t = 0\n",
    "            indices = []\n",
    "            captions = []\n",
    "            \n",
    "            j += 1\n",
    "\n",
    "    # Joining Subtitle Lists into one caption:\n",
    "    subtitles = [0] * n\n",
    "    for i in range(0, n):\n",
    "        cc = ''.join(caption_list[i])\n",
    "        subtitles[i] = cc\n",
    "    \n",
    "    return subtitles, start_list # returning the subtitles and the start time of each thread"
   ]
  },
  {
   "cell_type": "markdown",
   "id": "cbc648e5-3a08-43c4-9d27-2cbeb87decdc",
   "metadata": {},
   "source": [
    "## 2. Time -> Frames, more tangible variable"
   ]
  },
  {
   "cell_type": "code",
   "execution_count": null,
   "id": "ef609523-bd08-44e7-8eee-67c024614ae4",
   "metadata": {},
   "outputs": [],
   "source": [
    "def framenumber(start_list, fps):\n",
    "    frame_information = [0] * (len(start_list))\n",
    "        \n",
    "    for i in range(0, len(start_list)):\n",
    "        time = start_list[i]\n",
    "        frame = int((fps * time) - 30)\n",
    "        frame_information[i] = frame\n",
    "                   \n",
    "    return frame_information"
   ]
  },
  {
   "cell_type": "markdown",
   "id": "595999f4-ff1b-48e7-8b1b-a97019a8fedc",
   "metadata": {},
   "source": [
    "## 3. Creating logo for each subtitled output:  "
   ]
  },
  {
   "cell_type": "code",
   "execution_count": 2,
   "id": "c9d20d01-3350-4731-9f96-4c89d7a16965",
   "metadata": {},
   "outputs": [],
   "source": [
    "def subtitle_output(sub, cap, frame):\n",
    "    import cv2\n",
    "    import numpy as np\n",
    "    \n",
    "    height = int(cap.get(cv2.CAP_PROP_FRAME_HEIGHT)) \n",
    "    width = int(cap.get(cv2.CAP_PROP_FRAME_WIDTH))\n",
    "        \n",
    "    if frame is None:\n",
    "        # Creating a false transparent frame for overlay:\n",
    "        Frame = np.zeros((height, width, 4), dtype=np.uint8)\n",
    "        Frame[:,:,3] = 0\n",
    "        return Frame\n",
    "\n",
    "    if frame is not None:  \n",
    "\n",
    "        # Font definitions for OpenCV putText function:\n",
    "        font = cv2.FONT_HERSHEY_SIMPLEX\n",
    "        font_scale = 0.8\n",
    "        \n",
    "        # area of interest, where subtitles are placed:\n",
    "            # RECTANGLE:\n",
    "        tr = int(width - 10), int(height - 34)\n",
    "        [a, b] = tr\n",
    "        bl = 10, int(height - 3)\n",
    "        [c, d] = bl\n",
    "            # TEXT:\n",
    "        x = int(10)\n",
    "        y = int(height - 10)\n",
    "        \n",
    "        # Creating Blank Image:\n",
    "        data = np.zeros((height, width, 4), dtype=np.uint8)\n",
    "        \n",
    "        # Drawing on Blank Image:\n",
    "        img = cv2.rectangle(data, tr, bl, (0, 0, 0), -1)\n",
    "        image = cv2.putText(img, sub, (x, y), font, font_scale, (255, 255, 255), 2, cv2.LINE_AA)\n",
    "        \n",
    "        # Ensuring only reigon of interest is transparent:\n",
    "        for h in range(0, height):\n",
    "            for w in range(0, width):\n",
    "                if c <= w < a and b <= h < d:\n",
    "                    data[h, w, 3] = 255\n",
    "                else:\n",
    "                    data[h, w, 3] = 0\n",
    "                    \n",
    "        # Returning overlay for frame:\n",
    "        return image"
   ]
  },
  {
   "cell_type": "markdown",
   "id": "8c7596af-edfe-45cb-9e0d-41cdac952256",
   "metadata": {},
   "source": [
    "## Example Data:"
   ]
  },
  {
   "cell_type": "code",
   "execution_count": null,
   "id": "067e1c7a-5b7b-47ea-88c0-46effd5a980d",
   "metadata": {},
   "outputs": [],
   "source": [
    "# Source .json file:\n",
    "filepath = \"./rev.ai/recording_0.json\"\n",
    "\n",
    "[subtitles, start_times] = structuredsub(filepath)\n",
    "frame_information = framenumber(start_times, 30)\n",
    "img = subtitle_output(subtitles, cap, frame)"
   ]
  }
 ],
 "metadata": {
  "kernelspec": {
   "display_name": "Python 3",
   "language": "python",
   "name": "python3"
  },
  "language_info": {
   "codemirror_mode": {
    "name": "ipython",
    "version": 3
   },
   "file_extension": ".py",
   "mimetype": "text/x-python",
   "name": "python",
   "nbconvert_exporter": "python",
   "pygments_lexer": "ipython3",
   "version": "3.8.2"
  }
 },
 "nbformat": 4,
 "nbformat_minor": 5
}
