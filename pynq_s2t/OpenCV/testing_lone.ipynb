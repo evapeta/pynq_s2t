{
 "cells": [
  {
   "cell_type": "markdown",
   "id": "213cd491-1cbd-424b-975d-7b8b972526d9",
   "metadata": {},
   "source": [
    "# Making transparent image:"
   ]
  },
  {
   "cell_type": "code",
   "execution_count": 1,
   "id": "7063fba8-7422-4273-b59a-d5285c9c5e6c",
   "metadata": {},
   "outputs": [],
   "source": [
    "import cv2\n",
    "import numpy as np\n",
    "from matplotlib import pyplot as plt"
   ]
  },
  {
   "cell_type": "code",
   "execution_count": 2,
   "id": "ce15696b-df14-4a62-8ffe-99544ce81129",
   "metadata": {},
   "outputs": [],
   "source": [
    "def subtitle_output(sub, frame):\n",
    " \n",
    "    height, width = frame.shape  \n",
    "    \n",
    "    # Defining the false overlay image:\n",
    "    data = np.zeros((height, width, 4), dtype=np.uint8)\n",
    "    \n",
    "    # font constraints for opencv put text:\n",
    "    font = cv2.FONT_HERSHEY_SIMPLEX\n",
    "    font_scale = 0.8\n",
    "    \n",
    "    # area of interest, where subtitles are placed:\n",
    "    tr = int(width - 10), int(height - 34)\n",
    "    [a, b] = tr\n",
    "    bl = 10, int(height - 3)\n",
    "    [c, d] = bl\n",
    "    \n",
    "    x = int(10)\n",
    "    y = int(height - 10)\n",
    "    \n",
    "    img = cv2.rectangle(data, tr, bl, (0, 0, 0), -1)\n",
    "    image = cv2.putText(img, sub, (x, y), font, font_scale, (255, 255, 255), 2, cv2.LINE_AA)\n",
    "\n",
    "    for h in range(0, height):\n",
    "        for w in range(0, width):\n",
    "            if c <= w < a and b <= h < d:\n",
    "                data[h, w, 3] = 255\n",
    "            else:\n",
    "                data[h, w, 3] = 0\n",
    "        \n",
    "    return image"
   ]
  },
  {
   "cell_type": "code",
   "execution_count": 3,
   "id": "903d4607-a9f1-4ff2-a20c-15a114e4b372",
   "metadata": {},
   "outputs": [
    {
     "data": {
      "image/png": "[encoded data removed]",
      "text/plain": [
       "<Figure size 432x288 with 1 Axes>"
      ]
     },
     "metadata": {
      "needs_background": "light"
     },
     "output_type": "display_data"
    }
   ],
   "source": [
    "sub = 'Testing... one, two, three!'\n",
    "frame = np.zeros((480, 640), np.uint8)\n",
    "\n",
    "image = subtitle_output(sub, frame)\n",
    "plt.imshow(image)\n",
    "plt.title('Subtitled Output Test:')\n",
    "plt.show()"
   ]
  },
  {
   "cell_type": "code",
   "execution_count": null,
   "id": "ad87eb05-c191-4da4-91fa-0a4bff3abcb1",
   "metadata": {},
   "outputs": [],
   "source": []
  },
  {
   "cell_type": "code",
   "execution_count": null,
   "id": "1662e7ba-e44d-4517-8ad1-2d92feb1d318",
   "metadata": {},
   "outputs": [],
   "source": []
  }
 ],
 "metadata": {
  "kernelspec": {
   "display_name": "Python 3",
   "language": "python",
   "name": "python3"
  },
  "language_info": {
   "codemirror_mode": {
    "name": "ipython",
    "version": 3
   },
   "file_extension": ".py",
   "mimetype": "text/x-python",
   "name": "python",
   "nbconvert_exporter": "python",
   "pygments_lexer": "ipython3",
   "version": "3.8.2"
  }
 },
 "nbformat": 4,
 "nbformat_minor": 5
}
