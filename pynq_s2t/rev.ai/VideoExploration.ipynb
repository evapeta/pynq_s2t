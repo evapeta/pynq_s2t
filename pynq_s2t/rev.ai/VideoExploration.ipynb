{
 "cells": [
  {
   "cell_type": "markdown",
   "id": "7bd98e58-8502-4348-9c55-e077ee6ed562",
   "metadata": {},
   "source": [
    "# Video Nonsense:"
   ]
  },
  {
   "cell_type": "markdown",
   "id": "d7103cd8-4b69-440a-a951-94e6494a15c8",
   "metadata": {},
   "source": [
    "## Initial Conditions:"
   ]
  },
  {
   "cell_type": "code",
   "execution_count": null,
   "id": "bdc74f97-8182-4359-9fb4-f7c139526439",
   "metadata": {},
   "outputs": [],
   "source": [
    "# monitor configuration: 640*480 @ 60Hz\n",
    "Mode = VideoMode(640,480,24)\n",
    "hdmi_out = base.video.hdmi_out\n",
    "hdmi_out.configure(Mode,PIXEL_BGR)\n",
    "hdmi_out.start()"
   ]
  },
  {
   "cell_type": "code",
   "execution_count": null,
   "id": "779bb29a-2d7b-4fbb-9047-b3adf47f086d",
   "metadata": {},
   "outputs": [],
   "source": [
    "# camera (input) configuration\n",
    "frame_in_w = 640\n",
    "frame_in_h = 480"
   ]
  },
  {
   "cell_type": "code",
   "execution_count": null,
   "id": "f65753f1-d1ad-462a-9f48-3dbe0dc05d3e",
   "metadata": {},
   "outputs": [],
   "source": [
    "videoIn = cv2.VideoCapture(0)\n",
    "videoIn.set(cv2.CAP_PROP_FRAME_WIDTH, frame_in_w);\n",
    "videoIn.set(cv2.CAP_PROP_FRAME_HEIGHT, frame_in_h);\n",
    "print(\"capture device is open: \" + str(videoIn.isOpened()))"
   ]
  },
  {
   "cell_type": "markdown",
   "id": "3f435017-7663-45a9-b1f5-d775931d4c52",
   "metadata": {},
   "source": [
    "## One Class for Showing Video:"
   ]
  },
  {
   "cell_type": "code",
   "execution_count": null,
   "id": "36f84cf7-ac64-4edf-b44b-6ece20f39d1c",
   "metadata": {},
   "outputs": [],
   "source": [
    "class VideoShow:\n",
    "    \"\"\"\n",
    "    Class that continuously shows a frame using a dedicated thread.\n",
    "    \"\"\"\n",
    "    def __init__(self, ret, frame, subtitle):\n",
    "        \n",
    "        self.grab = ret\n",
    "        self.video_frame = frame\n",
    "        self.subtitle = subtitle\n",
    "        self.video_stream = cv2.VideoCapture(0)\n",
    "        \n",
    "        (self.grabbed, self.frame) = self.video_stream.read()\n",
    "        self._frame = queue.Queue()\n",
    "        self._ret = queue.Queue()\n",
    "        self.stopped = False\n",
    "\n",
    "    def __enter__(self):\n",
    "#         Thread(target=self.show, args=()).start()\n",
    "        thread = threading.Thread(target=self._do)\n",
    "        return self\n",
    "    \n",
    "    def _do(self):\n",
    "        while not self.stopped:\n",
    "            if not self.grabbed:\n",
    "                self.stop()\n",
    "            else:\n",
    "                (self.grabbed, self.frame) = self.video_stream.read()\n",
    "                self._frame.put(self.frame)\n",
    "                self._ret.put(self.grabbed)\n",
    "    \n",
    "    def show(self):\n",
    "        while not self.stopped:\n",
    "            video_frame = self._frame.get()\n",
    "            self.grab = self._ret.get()\n",
    "            \n",
    "            if (self.grab):\n",
    "                outframe = hdmi_out.newframe()\n",
    "                outframe[:] = self.video_frame\n",
    "                output_frame = subtitle_output(self.subtitle, outframe)\n",
    "                hdmi_out.writeframe(output_frame)\n",
    "            else:\n",
    "                raise RuntimeError(\"Error while reading from camera.\")\n",
    "                \n",
    "    def __exit__(self, type, value, traceback):\n",
    "        self.stopped = True"
   ]
  },
  {
   "cell_type": "code",
   "execution_count": null,
   "id": "6cc13b25-4bcb-4ad5-bb8e-07f2fe481e0d",
   "metadata": {},
   "outputs": [],
   "source": [
    "ret, frame = videoIn.read()\n",
    "subtitle = 'Testing 1, 2, 3'\n",
    "i = 0\n",
    "# video_player = VideoShow(frame, subtitle, videoIn)\n",
    "with VideoShow(ret, frame, subtitle) as video_player:\n",
    "    if ret:\n",
    "        vid = video_player.__enter__()\n",
    "        video_getter = video_player.show()\n",
    "        i += 1\n",
    "        if video_player.stopped:\n",
    "            video_player.__exit__()\n",
    "\n",
    "#         frame = video_player.get()\n",
    "#         video_shower.frame = frame\n",
    "        \n",
    "i"
   ]
  },
  {
   "cell_type": "markdown",
   "id": "d9ae0b63-5f5f-48ee-90f4-edb65bc0be6a",
   "metadata": {},
   "source": [
    "## Two Classes:"
   ]
  },
  {
   "cell_type": "code",
   "execution_count": null,
   "id": "8656d4e2-fce4-48b7-82cc-3d95dac62a7b",
   "metadata": {},
   "outputs": [],
   "source": [
    "class VideoGet:\n",
    "    \"\"\"\n",
    "    Class that continuously gets frames from a VideoCapture object\n",
    "    with a dedicated thread.\n",
    "    \"\"\"\n",
    "\n",
    "    def __init__(self, src=0):\n",
    "        self.stream = cv2.VideoCapture(src)\n",
    "        (self.grabbed, self.frame) = self.stream.read()\n",
    "        self.stopped = False\n",
    "\n",
    "    def start(self):    \n",
    "        thread = threading.Thread(target=self.get, args=()).start()\n",
    "        return self\n",
    "\n",
    "    def get(self):\n",
    "        while not self.stopped:\n",
    "            if not self.grabbed:\n",
    "                self.stop()\n",
    "            else:\n",
    "                (self.grabbed, self.frame) = self.stream.read()\n",
    "                return self.grabbed, self.frame\n",
    "\n",
    "    def stop(self):\n",
    "        self.stopped = True"
   ]
  },
  {
   "cell_type": "code",
   "execution_count": null,
   "id": "33f67a94-42ca-451e-8242-4c996439d505",
   "metadata": {},
   "outputs": [],
   "source": [
    "class VideoShow:\n",
    "    \"\"\"\n",
    "    Class that continuously shows a frame using a dedicated thread.\n",
    "    \"\"\"\n",
    "\n",
    "    def __init__(self, frame):\n",
    "        self.frame = frame\n",
    "        self.stopped = False\n",
    "\n",
    "    def start(self):\n",
    "        thread = threading.Thread(target=self.show, args=()).start()\n",
    "        return self\n",
    "\n",
    "    def show(self):\n",
    "        while not self.stopped:\n",
    "            outframe = hdmi_out.newframe()\n",
    "            outframe[:] = self.frame\n",
    "            hdmi_out.writeframe(outframe)\n",
    "            if KeyboardInterrupt:\n",
    "                self.stopped = True\n",
    "\n",
    "    def stop(self):\n",
    "        self.stopped = True\n"
   ]
  },
  {
   "cell_type": "code",
   "execution_count": null,
   "id": "d1512aa1-8409-4f9f-97db-2f701afaeb7c",
   "metadata": {},
   "outputs": [],
   "source": [
    "def threadBoth(source=0):\n",
    "    \"\"\"\n",
    "    Dedicated thread for grabbing video frames with VideoGet object.\n",
    "    Dedicated thread for showing video frames with VideoShow object.\n",
    "    Main thread serves only to pass frames between VideoGet and\n",
    "    VideoShow objects/threads.\n",
    "    \"\"\"\n",
    "\n",
    "    video_getter = VideoGet(source).start()\n",
    "    video_shower = VideoShow(video_getter.frame).start()\n",
    "\n",
    "    while True:\n",
    "        if video_getter.stopped or video_shower.stopped:\n",
    "            video_shower.stop()\n",
    "            video_getter.stop()\n",
    "            break\n",
    "\n",
    "        frame = video_getter.frame\n",
    "        video_shower.frame = frame"
   ]
  },
  {
   "cell_type": "code",
   "execution_count": null,
   "id": "62e8cca4-bb8d-4453-91b9-5671d88c51c6",
   "metadata": {},
   "outputs": [],
   "source": [
    "threadBoth(0)"
   ]
  },
  {
   "cell_type": "code",
   "execution_count": null,
   "id": "9f88709c-ef63-4fcc-90ce-cef9acfe3279",
   "metadata": {},
   "outputs": [],
   "source": [
    "videoIn.release()\n",
    "hdmi_out.stop()\n",
    "del hdmi_out"
   ]
  }
 ],
 "metadata": {
  "kernelspec": {
   "display_name": "Python 3",
   "language": "python",
   "name": "python3"
  },
  "language_info": {
   "codemirror_mode": {
    "name": "ipython",
    "version": 3
   },
   "file_extension": ".py",
   "mimetype": "text/x-python",
   "name": "python",
   "nbconvert_exporter": "python",
   "pygments_lexer": "ipython3",
   "version": "3.8.2"
  }
 },
 "nbformat": 4,
 "nbformat_minor": 5
}
