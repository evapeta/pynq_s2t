{
 "cells": [
  {
   "cell_type": "code",
   "execution_count": 1,
   "id": "bb2853fb-868e-4078-a316-271c991466e1",
   "metadata": {},
   "outputs": [
    {
     "data": {
      "application/javascript": [
       "\n",
       "try {\n",
       "require(['notebook/js/codecell'], function(codecell) {\n",
       "  codecell.CodeCell.options_default.highlight_modes[\n",
       "      'magic_text/x-csrc'] = {'reg':[/^%%microblaze/]};\n",
       "  Jupyter.notebook.events.one('kernel_ready.Kernel', function(){\n",
       "      Jupyter.notebook.get_cells().map(function(cell){\n",
       "          if (cell.cell_type == 'code'){ cell.auto_highlight(); } }) ;\n",
       "  });\n",
       "});\n",
       "} catch (e) {};\n"
      ]
     },
     "metadata": {},
     "output_type": "display_data"
    },
    {
     "data": {
      "application/javascript": [
       "\n",
       "try {\n",
       "require(['notebook/js/codecell'], function(codecell) {\n",
       "  codecell.CodeCell.options_default.highlight_modes[\n",
       "      'magic_text/x-csrc'] = {'reg':[/^%%pybind11/]};\n",
       "  Jupyter.notebook.events.one('kernel_ready.Kernel', function(){\n",
       "      Jupyter.notebook.get_cells().map(function(cell){\n",
       "          if (cell.cell_type == 'code'){ cell.auto_highlight(); } }) ;\n",
       "  });\n",
       "});\n",
       "} catch (e) {};\n"
      ]
     },
     "metadata": {},
     "output_type": "display_data"
    }
   ],
   "source": [
    "from pynq import Overlay\n",
    "import pynq.lib.video\n",
    "import pynq.lib.audio\n",
    "from pynq import DefaultIP\n",
    "from pynq import allocate"
   ]
  },
  {
   "cell_type": "code",
   "execution_count": 2,
   "id": "782ad08a-9afb-419b-a831-c8f3143d6c1a",
   "metadata": {},
   "outputs": [],
   "source": [
    "#from PPFunctions_Live import *\n",
    "from matplotlib import pyplot as plt\n",
    "import numpy as np"
   ]
  },
  {
   "cell_type": "code",
   "execution_count": 3,
   "id": "417f7c0b-f67e-4b61-847a-58d17995bf61",
   "metadata": {},
   "outputs": [],
   "source": [
    "ol = Overlay('pynq_s2t.bit')\n",
    "\n",
    "hdmi_in = ol.video.hdmi_in\n",
    "hdmi_out = ol.video.hdmi_out"
   ]
  },
  {
   "cell_type": "code",
   "execution_count": 7,
   "id": "a1895a8f-bb58-4cad-a633-636180f7a577",
   "metadata": {},
   "outputs": [],
   "source": [
    "vdma_in = ol.axi_vdma_mixer.readchannel\n",
    "vdma_out = ol.axi_vdma_mixer.writechannel"
   ]
  },
  {
   "cell_type": "code",
   "execution_count": 4,
   "id": "bad6be1a-a0bc-41cd-ad7f-16819ad9d1f3",
   "metadata": {},
   "outputs": [
    {
     "data": {
      "text/plain": [
       "<contextlib._GeneratorContextManager at 0xa1c6f340>"
      ]
     },
     "execution_count": 4,
     "metadata": {},
     "output_type": "execute_result"
    }
   ],
   "source": [
    "hdmi_in.configure()"
   ]
  },
  {
   "cell_type": "code",
   "execution_count": 5,
   "id": "ac4e4e26-a88c-434f-bfde-823d0b85e561",
   "metadata": {},
   "outputs": [
    {
     "data": {
      "text/plain": [
       "<contextlib._GeneratorContextManager at 0xa1c6f478>"
      ]
     },
     "execution_count": 5,
     "metadata": {},
     "output_type": "execute_result"
    }
   ],
   "source": [
    "mode = hdmi_in.mode\n",
    "hdmi_out.configure(mode)"
   ]
  },
  {
   "cell_type": "code",
   "execution_count": 6,
   "id": "44fd0f49-e4cb-4868-b922-f59eb25caafc",
   "metadata": {},
   "outputs": [
    {
     "data": {
      "text/plain": [
       "<contextlib._GeneratorContextManager at 0xa1c6f580>"
      ]
     },
     "execution_count": 6,
     "metadata": {},
     "output_type": "execute_result"
    }
   ],
   "source": [
    "hdmi_in.start()\n",
    "hdmi_out.start()"
   ]
  },
  {
   "cell_type": "code",
   "execution_count": 8,
   "id": "18984251-d7f5-4177-923d-cd4512fcfdb3",
   "metadata": {},
   "outputs": [],
   "source": [
    "vdma_in.mode = mode\n",
    "vdma_out.mode = mode\n",
    "\n",
    "vdma_in.start()\n",
    "vdma_out.start()"
   ]
  },
  {
   "cell_type": "code",
   "execution_count": 9,
   "id": "1750c1af-06e9-4148-890f-6c72bedc4597",
   "metadata": {},
   "outputs": [],
   "source": [
    "ol.video.axi_vdma.readchannel.tie(ol.axi_vdma_mixer.writechannel)\n",
    "ol.axi_vdma_mixer.readchannel.tie(ol.video.axi_vdma.writechannel)"
   ]
  },
  {
   "cell_type": "code",
   "execution_count": null,
   "id": "efe3a0d9-4584-40ee-b449-a8fa2986579e",
   "metadata": {},
   "outputs": [],
   "source": [
    "frame = hdmi_in.readframe()\n",
    "hdmi_out.writeframe(frame)"
   ]
  },
  {
   "cell_type": "code",
   "execution_count": null,
   "id": "87e2d0ac-ffa2-4161-b492-0ac7e23391e1",
   "metadata": {},
   "outputs": [],
   "source": [
    "vdma_in.mode = mode\n",
    "vdma_out.mode = mode\n",
    "vdma_in.start()\n",
    "vdma_out.start()"
   ]
  },
  {
   "cell_type": "code",
   "execution_count": null,
   "id": "f9ad17af-6145-4295-9872-a968a66c2f4d",
   "metadata": {},
   "outputs": [],
   "source": [
    "ol.video_mixer.write(0x10, 1920)\n",
    "ol.video_mixer.write(0x18, 1080)\n",
    "ol.video_mixer.write(0x40, 1)"
   ]
  },
  {
   "cell_type": "code",
   "execution_count": null,
   "id": "20af042d-7e71-4e87-8942-1bbd5286ce62",
   "metadata": {},
   "outputs": [],
   "source": [
    "ol.video_mixer.write(0x00, 129)"
   ]
  },
  {
   "cell_type": "code",
   "execution_count": null,
   "id": "24397f07-25da-4185-a208-f78972942025",
   "metadata": {},
   "outputs": [],
   "source": [
    "frame = hdmi_in.readframe()"
   ]
  },
  {
   "cell_type": "code",
   "execution_count": null,
   "id": "6e080039-7cf3-47cc-b07c-d101715c23ae",
   "metadata": {},
   "outputs": [],
   "source": [
    "vdma_out.writeframe(frame)\n",
    "frame2 = vdma_in.readframe()"
   ]
  },
  {
   "cell_type": "code",
   "execution_count": null,
   "id": "ef1ef0a7-164b-4ecc-83e6-f32702469fb1",
   "metadata": {},
   "outputs": [],
   "source": [
    "import PIL.Image\n",
    "\n",
    "image = PIL.Image.fromarray(frame2)\n",
    "image"
   ]
  },
  {
   "cell_type": "code",
   "execution_count": null,
   "id": "d575176e-d767-43a3-a6f9-cf7ad6075425",
   "metadata": {},
   "outputs": [],
   "source": [
    "hdmi_out.writeframe(frame2)"
   ]
  },
  {
   "cell_type": "code",
   "execution_count": 10,
   "id": "510c1bf8-24f4-4e8d-ab22-a90691410133",
   "metadata": {},
   "outputs": [],
   "source": [
    "hdmi_out.close()\n",
    "hdmi_in.close()"
   ]
  },
  {
   "cell_type": "code",
   "execution_count": 11,
   "id": "678e2e43-1b86-481d-98b8-be14e90c6aa4",
   "metadata": {},
   "outputs": [],
   "source": [
    "vdma_in.stop()\n",
    "vdma_out.stop()"
   ]
  },
  {
   "cell_type": "code",
   "execution_count": null,
   "id": "2d8a45d8-32c5-4893-871b-66c0a08a6705",
   "metadata": {},
   "outputs": [],
   "source": []
  }
 ],
 "metadata": {
  "kernelspec": {
   "display_name": "Python 3",
   "language": "python",
   "name": "python3"
  },
  "language_info": {
   "codemirror_mode": {
    "name": "ipython",
    "version": 3
   },
   "file_extension": ".py",
   "mimetype": "text/x-python",
   "name": "python",
   "nbconvert_exporter": "python",
   "pygments_lexer": "ipython3",
   "version": "3.8.2"
  }
 },
 "nbformat": 4,
 "nbformat_minor": 5
}
