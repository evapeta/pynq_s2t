{
 "cells": [
  {
   "cell_type": "markdown",
   "id": "1e9aa890-6015-4d2f-9810-416e15edf027",
   "metadata": {},
   "source": [
    "# Creating a Class for Video Mixing Block"
   ]
  },
  {
   "cell_type": "code",
   "execution_count": null,
   "id": "8c1400c0-c27c-4b8a-ad91-a25ea3028ac2",
   "metadata": {},
   "outputs": [],
   "source": [
    "from pynq import Overlay\n",
    "import pynq.lib.video\n",
    "import pynq.lib.audio\n",
    "from pynq import DefaultIP\n",
    "from pynq import allocate"
   ]
  },
  {
   "cell_type": "code",
   "execution_count": null,
   "id": "65703380-e017-43cb-aa0f-3f79c97b44ee",
   "metadata": {},
   "outputs": [],
   "source": [
    "from PPFunctions_Live import *\n",
    "from matplotlib import pyplot as plt\n",
    "import numpy as np\n",
    "import cv2"
   ]
  },
  {
   "cell_type": "code",
   "execution_count": null,
   "id": "becbfb35-217e-42c9-98b2-0a3b3a70a9a9",
   "metadata": {
    "jupyter": {
     "source_hidden": true
    },
    "tags": []
   },
   "outputs": [],
   "source": [
    "class VideoMixer(DefaultIP):\n",
    "    def __init__(self, description):\n",
    "        super().__init__(description=description)\n",
    "        self._MAX_HEIGHT = 1080\n",
    "        self._MAX_WIDTH = 1920\n",
    "        \n",
    "    bindto = ['xilinx.com:ip:v_mix:5.1']\n",
    "    \n",
    "    ## Layer Enable Properties:\n",
    "    @property\n",
    "    def en_layer(self):\n",
    "        return self.read(0x40)\n",
    "    \n",
    "    @en_layer.setter\n",
    "    def en_layer(self, layer_id):\n",
    "        return self.write(0x40, layer_id)\n",
    "    \n",
    "    ## Base Layer Properties:\n",
    "    @property\n",
    "    def _control(self):\n",
    "        return self.read(0x00)\n",
    "    \n",
    "    @_control.setter\n",
    "    def _control(self, value):\n",
    "        return self.write(0x00, value)\n",
    "    \n",
    "    @property\n",
    "    def base_width(self):\n",
    "        return self.read(0x10)\n",
    "    \n",
    "    @base_width.setter\n",
    "    def base_width(self, w_value):\n",
    "        if (w_value < 64) and (w_value > self._MAX_WIDTH):\n",
    "            raise ValueError('Bad Width!')\n",
    "        if type(w_value) != int:\n",
    "            raise TypeError('Bad Width Datatype!')\n",
    "        self.write(0x10, w_value)\n",
    "        \n",
    "    @property\n",
    "    def base_height(self):\n",
    "        return self.read(0x18)\n",
    "    \n",
    "    @base_height.setter\n",
    "    def base_height(self, h_value):\n",
    "        if (h_value < 64) or (h_value > self._MAX_HEIGHT):\n",
    "            raise ValueError('Bad Height!')\n",
    "        if type(h_value) != int:\n",
    "            raise TypeError('Bad Height Datatype!')\n",
    "        self.write(0x18, h_value)\n",
    "    \n",
    "    ## 1st Overlay Properties:\n",
    "        ## Alpha Value of Overlay:\n",
    "    @property\n",
    "    def first_alpha(self):\n",
    "        return self.read(0x200)\n",
    "    @first_alpha.setter\n",
    "    def first_alpha(self, alpha_value):\n",
    "        if (alpha_value < 0) or (alpha_value > 256):\n",
    "            raise ValueError('Alpha Value Outside Conditions')\n",
    "        self.write(0x200, alpha_value)\n",
    "    \n",
    "        ## Defining the Coordinates of X and Y Positions of the Overlay:\n",
    "    @property\n",
    "    def start_x(self):\n",
    "        return self.read(0x208)\n",
    "    @start_x.setter\n",
    "    def start_x(self, x_value):\n",
    "        if (x_value < 0) or (x_value > self._MAX_WIDTH):\n",
    "             raise ValueError('x value outwith width constraints')\n",
    "        if type(x_value) != int:\n",
    "            raise TypeError('Bad Height Datatype!')\n",
    "        self.write(0x208, x_value)\n",
    "    @property\n",
    "    def start_y(self):\n",
    "        return self.read(0x210)\n",
    "    @start_y.setter\n",
    "    def start_y(self, y_value):\n",
    "        if (y_value < 0) or (y_value > self._MAX_HEIGHT):\n",
    "             raise ValueError('y value outwith height constraints')\n",
    "        if type(y_value) != int:\n",
    "            raise TypeError('Bad Height Datatype!')\n",
    "        self.write(0x210, y_value)\n",
    "        \n",
    "        ## Defining width and height of overlaid image:\n",
    "    @property\n",
    "    def layer_width(self):\n",
    "        return self.read(0x218)\n",
    "    @layer_width.setter\n",
    "    def layer_width(self, lw_value):\n",
    "        if (lw_value < 0) or (lw_value > self._MAX_WIDTH):\n",
    "            raise ValueError('Bad Width!')\n",
    "        if type(lw_value) != int:\n",
    "            raise TypeError('Bad Width Datatype!')\n",
    "        self.write(0x218, lw_value)\n",
    "    \n",
    "    @property\n",
    "    def layer_height(self):\n",
    "        return self.read(0x228)\n",
    "    @layer_height.setter\n",
    "    def layer_height(self, lh_value):\n",
    "        if (lh_value < 0) or (lh_value > self._MAX_WIDTH):\n",
    "            raise ValueError('Bad Width!')\n",
    "        if type(lh_value) != int:\n",
    "            raise TypeError('Bad Width Datatype!')\n",
    "        self.write(0x228, lh_value)\n",
    "    \n",
    "    ## Starting Class with Internal Operations:\n",
    "    def start(self):\n",
    "        self._control = 137\n",
    "\n",
    "class VideoOverlay(Overlay):\n",
    "    def __init__(self, bitstream, **kwargs):\n",
    "        super().__init__(bitstream, **kwargs)\n",
    "        \n",
    "        self.audio = self.audio_codec_ctrl_0\n",
    "        self.audio.configure()"
   ]
  },
  {
   "cell_type": "markdown",
   "id": "c8248ab0-f89e-45c0-966c-734e3b0f7852",
   "metadata": {},
   "source": [
    "## Following Blocks are Used to Project 1 Layer:"
   ]
  },
  {
   "cell_type": "code",
   "execution_count": null,
   "id": "eae6e1d8-bfdd-4aea-b7ac-acd591340be8",
   "metadata": {},
   "outputs": [],
   "source": [
    "ol = Overlay('pynq_s2t.bit')\n",
    "# ol.video_mixer.start()"
   ]
  },
  {
   "cell_type": "markdown",
   "id": "d85c9bb5-f629-42d0-b44e-e67779599a29",
   "metadata": {},
   "source": [
    "## HDMI Definition of Inputs:"
   ]
  },
  {
   "cell_type": "code",
   "execution_count": null,
   "id": "713497d3-08ef-484c-bf34-efc2f1cb6131",
   "metadata": {},
   "outputs": [],
   "source": [
    "hdmi_in = ol.video.hdmi_in\n",
    "hdmi_in.configure()\n",
    "hdmi_in.start()"
   ]
  },
  {
   "cell_type": "code",
   "execution_count": null,
   "id": "23261d26-a625-4a96-92a9-86e194cda4f0",
   "metadata": {
    "jupyter": {
     "source_hidden": true
    },
    "tags": []
   },
   "outputs": [],
   "source": [
    "array = ol.video.axi_vdma.readchannel.readframe()"
   ]
  },
  {
   "cell_type": "code",
   "execution_count": null,
   "id": "49a6feb7-b410-43be-b2ff-5f27822f0008",
   "metadata": {},
   "outputs": [],
   "source": [
    "mode = ol.video.axi_vdma.readchannel.mode\n",
    "mode"
   ]
  },
  {
   "cell_type": "code",
   "execution_count": null,
   "id": "b3637fe7-02a3-409e-938b-2afc2a21bbb0",
   "metadata": {},
   "outputs": [],
   "source": [
    "ol.video_mixer.write(0x10, 1920)\n",
    "ol.video_mixer.write(0x18, 1080)"
   ]
  },
  {
   "cell_type": "code",
   "execution_count": null,
   "id": "c8919930-84bf-4e31-a450-8d7fcdbd65e9",
   "metadata": {},
   "outputs": [],
   "source": [
    "ol.video_mixer.write(0x00, 129)"
   ]
  },
  {
   "cell_type": "code",
   "execution_count": null,
   "id": "938764dc-ed6d-4abc-ad7c-8855e4922fdb",
   "metadata": {},
   "outputs": [],
   "source": [
    "ol.axi_vdma_mixer.writechannel.mode = mode\n",
    "ol.axi_vdma_mixer.readchannel.mode = mode\n",
    "ol.video.axi_vdma.writechannel.mode = mode\n",
    "\n",
    "ol.video.axi_vdma.readchannel.tie(ol.axi_vdma_mixer.writechannel)\n",
    "ol.axi_vdma_mixer.readchannel.tie(ol.video.axi_vdma.writechannel)\n",
    "\n",
    "ol.video.axi_vdma.readchannel.start()\n",
    "ol.axi_vdma_mixer.writechannel.start()\n",
    "ol.video.axi_vdma.writechannel.start()\n",
    "ol.axi_vdma_mixer.readchannel.start()\n"
   ]
  },
  {
   "cell_type": "code",
   "execution_count": null,
   "id": "a0c4cb1c-e33f-4ba5-8b15-20c349a9e151",
   "metadata": {},
   "outputs": [],
   "source": [
    "ol.video_mixer.write(0x40, 1)"
   ]
  },
  {
   "cell_type": "code",
   "execution_count": null,
   "id": "ec2dafc5-c400-4662-806b-785142ed2021",
   "metadata": {},
   "outputs": [],
   "source": [
    "ol.axi_vdma_mixer.writechannel.mode = mode\n",
    "ol.axi_vdma_mixer.readchannel.mode = mode"
   ]
  },
  {
   "cell_type": "code",
   "execution_count": null,
   "id": "fdd50fb9-9fa4-43ba-8484-c0969770d4f8",
   "metadata": {},
   "outputs": [],
   "source": [
    "ol.axi_vdma_mixer.readchannel.start()"
   ]
  },
  {
   "cell_type": "code",
   "execution_count": null,
   "id": "e3da104f-d6fe-4310-b97b-563f04707ffa",
   "metadata": {},
   "outputs": [],
   "source": [
    "ol.axi_vdma_mixer.writechannel.running"
   ]
  },
  {
   "cell_type": "code",
   "execution_count": null,
   "id": "cacd46b7-7d1e-48f1-b0ba-0bf69e51642e",
   "metadata": {},
   "outputs": [],
   "source": [
    "ol.video.axi_vdma.readchannel.running"
   ]
  },
  {
   "cell_type": "code",
   "execution_count": null,
   "id": "f690481e-188c-4e40-82d2-f69b89d91145",
   "metadata": {},
   "outputs": [],
   "source": [
    "array = ol.axi_vdma_mixer.readchannel.readframe()"
   ]
  },
  {
   "cell_type": "code",
   "execution_count": null,
   "id": "547e7a98-d4b4-44e1-b6a3-cf1ed9e0110b",
   "metadata": {
    "tags": []
   },
   "outputs": [],
   "source": [
    "import PIL.Image\n",
    "\n",
    "image = PIL.Image.fromarray(array)\n",
    "image"
   ]
  },
  {
   "cell_type": "code",
   "execution_count": null,
   "id": "83f275b0-4857-4878-9321-fbd4f4f7b247",
   "metadata": {},
   "outputs": [],
   "source": [
    "hdmi_out = ol.video.hdmi_out"
   ]
  },
  {
   "cell_type": "code",
   "execution_count": null,
   "id": "ee813205-0d97-40be-81d2-1c0ed2ad571c",
   "metadata": {},
   "outputs": [],
   "source": [
    "\n",
    "hdmi_out.configure(hdmi_in.mode)"
   ]
  },
  {
   "cell_type": "code",
   "execution_count": null,
   "id": "00cbc590-770d-4853-8d31-9d983565ff05",
   "metadata": {},
   "outputs": [],
   "source": [
    "\n",
    "hdmi_out.start()"
   ]
  },
  {
   "cell_type": "markdown",
   "id": "fa6b4f0f-033b-47ab-b8fd-03d2e08fc4d4",
   "metadata": {},
   "source": [
    "## Writing Frame width and height:"
   ]
  },
  {
   "cell_type": "markdown",
   "id": "84273b23-801c-4daf-8ab5-8d4118f12106",
   "metadata": {},
   "source": [
    "## Start Automatically restart"
   ]
  },
  {
   "cell_type": "markdown",
   "id": "8759bdd2-d55f-4fd2-bf10-b290104bc0e3",
   "metadata": {},
   "source": [
    "## Tie together Video Mixer VDMA with HDMI VDMA"
   ]
  },
  {
   "cell_type": "code",
   "execution_count": null,
   "id": "e1ae6760-31c4-48b1-8fe2-f2a77d617d0a",
   "metadata": {},
   "outputs": [],
   "source": [
    "ol.axi_vdma_mixer.readchannel.tie(ol.video.axi_vdma.writechannel)\n",
    "ol.video.axi_vdma.readchannel.tie(ol.axi_vdma_mixer.writechannel)"
   ]
  },
  {
   "cell_type": "code",
   "execution_count": null,
   "id": "14f2796e-c144-43b4-83ba-5b71f7b8246c",
   "metadata": {},
   "outputs": [],
   "source": [
    "ol.video.axi_vdma.readchannel.tie(ol.video.axi_vdma.writechannel)"
   ]
  },
  {
   "cell_type": "markdown",
   "id": "1181cb97-c599-4e12-8d98-04a880376573",
   "metadata": {},
   "source": [
    "## Layer 0 Enable:"
   ]
  },
  {
   "cell_type": "code",
   "execution_count": null,
   "id": "96b8e024-a6f9-4bb5-80a8-3f526589c03b",
   "metadata": {},
   "outputs": [],
   "source": [
    "ol.video_mixer.write(0x28, 255)"
   ]
  },
  {
   "cell_type": "code",
   "execution_count": null,
   "id": "5f4ab25f-1a61-4656-94a9-3792d243e164",
   "metadata": {},
   "outputs": [],
   "source": [
    "ol.video_mixer.write()"
   ]
  },
  {
   "cell_type": "markdown",
   "id": "a57da2b2-19a2-4df5-a07e-c61714a124a1",
   "metadata": {},
   "source": [
    "## HDMI Close"
   ]
  },
  {
   "cell_type": "code",
   "execution_count": null,
   "id": "3fef0952-6eba-42a4-8bf2-01a2884f604c",
   "metadata": {},
   "outputs": [],
   "source": [
    "hdmi_out.close()\n",
    "hdmi_in.close()"
   ]
  },
  {
   "cell_type": "markdown",
   "id": "e3750fcf-886f-4740-9960-63621391dbf5",
   "metadata": {},
   "source": [
    "## Base Layer With Overlay:"
   ]
  },
  {
   "cell_type": "code",
   "execution_count": null,
   "id": "2cb4a138-8b2b-4a5c-a28b-f4e5dccc7e7f",
   "metadata": {},
   "outputs": [],
   "source": [
    "ol = VideoOverlay('pynq_s2t.bit')\n",
    "ol.video_mixer.start()"
   ]
  },
  {
   "cell_type": "markdown",
   "id": "355decc4-c9f5-4abc-bcdb-027c27159e5d",
   "metadata": {},
   "source": [
    "### Frame Conditions:"
   ]
  },
  {
   "cell_type": "code",
   "execution_count": null,
   "id": "8c7fa533-c689-4c45-bd2d-3332f5e2ae76",
   "metadata": {},
   "outputs": [],
   "source": [
    "frame_height = 1079\n",
    "frame_width = 1440"
   ]
  },
  {
   "cell_type": "markdown",
   "id": "1674cefc-24d7-4c31-af95-7bad38c65b2c",
   "metadata": {},
   "source": [
    "### Overlay Conditions:"
   ]
  },
  {
   "cell_type": "code",
   "execution_count": null,
   "id": "83a8b760-f8d4-4f33-8103-88498c990a58",
   "metadata": {},
   "outputs": [],
   "source": [
    "    # Number of Active Layers:\n",
    "layer_number = 2**0\n",
    "\n",
    "    # Top left Coordinates of the overlay \n",
    "topleft_x = int(10)\n",
    "topleft_y = int(frame_height - 50)\n",
    "\n",
    "    # width and height of the overlay\n",
    "overlay_width = int(frame_width - 2 * topleft_x)\n",
    "overlay_height = int(40)\n",
    "\n",
    "    # alpha value of overlay\n",
    "alpha_val = 255"
   ]
  },
  {
   "cell_type": "markdown",
   "id": "88700930-093e-4aaf-807e-7d58a6e6fd7e",
   "metadata": {},
   "source": [
    "### Colour space"
   ]
  },
  {
   "cell_type": "code",
   "execution_count": null,
   "id": "67c3037d-e952-48ba-b78c-a9d6cdaae6ce",
   "metadata": {},
   "outputs": [],
   "source": [
    "colorspace_in = ol.video.hdmi_in.color_convert\n",
    "colorspace_out = ol.video.hdmi_out.color_convert\n",
    "\n",
    "bgr2rgb = [0, 0, 1,\n",
    "           0, 1, 0, \n",
    "           1, 0, 0,\n",
    "           0, 0, 0]\n",
    "\n",
    "colorspace_in.colorspace = bgr2rgb\n",
    "colorspace_out.colorspace = bgr2rgb"
   ]
  },
  {
   "cell_type": "markdown",
   "id": "f90638ce-4165-4035-a5f1-964d166155df",
   "metadata": {},
   "source": [
    "### Defining the Output Layer Operations:"
   ]
  },
  {
   "cell_type": "code",
   "execution_count": null,
   "id": "334b836f-9e81-4147-9686-c1eeb42cb2fb",
   "metadata": {},
   "outputs": [],
   "source": [
    "ol.video_mixer.en_layer = layer_number  \n",
    "\n",
    "## Physical Shape of the Frame:\n",
    "ol.video_mixer.base_height = frame_height\n",
    "ol.video_mixer.base_width = frame_width\n",
    "\n",
    "ol.video_mixer.start_x = topleft_x\n",
    "ol.video_mixer.start_y = topleft_y\n",
    "\n",
    "ol.video_mixer.layer_height = overlay_height\n",
    "ol.video_mixer.layer_width = overlay_width\n",
    "\n",
    "ol.video_mixer.first_alpha = alpha_val"
   ]
  },
  {
   "cell_type": "markdown",
   "id": "716bcfad-4c33-47e9-b315-db12467bdcc4",
   "metadata": {},
   "source": [
    "### Defining the Input and Output HDMI Blocks:"
   ]
  },
  {
   "cell_type": "code",
   "execution_count": null,
   "id": "33ed3c8c-85b9-4966-99f7-e8112e29ec01",
   "metadata": {},
   "outputs": [],
   "source": [
    "hdmi_in = ol.video.hdmi_in\n",
    "hdmi_out = ol.video.hdmi_out"
   ]
  },
  {
   "cell_type": "code",
   "execution_count": null,
   "id": "e742b20e-be59-4629-acad-3b4f00906d9b",
   "metadata": {},
   "outputs": [],
   "source": [
    "hdmi_in.configure() \n",
    "hdmi_out.configure(hdmi_in.mode)\n",
    "\n",
    "hdmi_in.start()\n",
    "hdmi_out.start()"
   ]
  },
  {
   "cell_type": "markdown",
   "id": "dfc4f48d-f4c1-4aa2-9b2c-d83e0b9ac6be",
   "metadata": {},
   "source": [
    "### Writing image to VDMA"
   ]
  },
  {
   "cell_type": "code",
   "execution_count": null,
   "id": "481cc2cd-a4f4-427e-9901-bd33976f81b0",
   "metadata": {},
   "outputs": [],
   "source": [
    "## creating black frame with optional subtitles on top:\n",
    "data = np.zeros((overlay_height, overlay_width), dtype=np.uint8)\n",
    "tr = overlay_width, 0     # top right coordinate\n",
    "bl = 0, overlay_height    # bottom left coordinate\n",
    "\n",
    "frame = cv2.rectangle(data, tr, bl, (0, 0, 0), -1)\n",
    "\n",
    "plt.imshow(frame)\n",
    "plt.title('Subtitled Output Test:')\n",
    "plt.show()"
   ]
  },
  {
   "cell_type": "code",
   "execution_count": null,
   "id": "d1249262-33e2-4169-8f2f-f4988c791712",
   "metadata": {},
   "outputs": [],
   "source": [
    "bl = 0, overlay_height\n",
    "\n",
    "\n",
    "ba = (bl[1] - 2)\n",
    "ba"
   ]
  },
  {
   "cell_type": "code",
   "execution_count": null,
   "id": "bc75853e-acb0-4db8-8532-570a9f62f183",
   "metadata": {},
   "outputs": [],
   "source": [
    "def putText(frame, sub, bl):\n",
    "    clone = frame.copy()\n",
    "    \n",
    "    bl_x = bl[0]\n",
    "    bl_y = (bl[1] - 2)\n",
    "    \n",
    "    # font constraints for opencv put text:\n",
    "    font = cv2.FONT_HERSHEY_SIMPLEX\n",
    "    font_scale = 1.4\n",
    "\n",
    "    # Image Variables to display text on rectangle:\n",
    "    image = cv2.putText(clone, sub, (bl_x, bl_y), font, font_scale, (255, 255, 255), 2, cv2.LINE_AA)\n",
    "    \n",
    "    return image"
   ]
  },
  {
   "cell_type": "code",
   "execution_count": null,
   "id": "6c48a6a6-d52a-459d-82e6-1a09322384c5",
   "metadata": {},
   "outputs": [],
   "source": [
    "sub = \"please work\"\n",
    "image = putText(frame, sub, bl)\n",
    "\n",
    "plt.imshow(image)\n",
    "plt.title('Subtitled Output Test:')\n",
    "plt.show()"
   ]
  },
  {
   "cell_type": "markdown",
   "id": "e8c244dc-7062-41db-a55d-01c1c08f8640",
   "metadata": {},
   "source": [
    "### Writing to the Output of the Video Mixer:"
   ]
  },
  {
   "cell_type": "code",
   "execution_count": null,
   "id": "20d91e4a-3383-4a1b-bc74-7365d59ac363",
   "metadata": {},
   "outputs": [],
   "source": [
    "hdmi_in.tie(hdmi_out)"
   ]
  },
  {
   "cell_type": "code",
   "execution_count": null,
   "id": "50e546e8-8777-4005-ad28-c4a2eaf1fff5",
   "metadata": {},
   "outputs": [],
   "source": [
    "hdmi_out.close()\n",
    "hdmi_in.close()"
   ]
  },
  {
   "cell_type": "code",
   "execution_count": null,
   "id": "df6deaa3-c5f8-482f-be6c-587176b0bac0",
   "metadata": {},
   "outputs": [],
   "source": []
  }
 ],
 "metadata": {
  "kernelspec": {
   "display_name": "Python 3",
   "language": "python",
   "name": "python3"
  },
  "language_info": {
   "codemirror_mode": {
    "name": "ipython",
    "version": 3
   },
   "file_extension": ".py",
   "mimetype": "text/x-python",
   "name": "python",
   "nbconvert_exporter": "python",
   "pygments_lexer": "ipython3",
   "version": "3.8.2"
  }
 },
 "nbformat": 4,
 "nbformat_minor": 5
}
