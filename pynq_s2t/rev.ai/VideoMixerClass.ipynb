{
 "cells": [
  {
   "cell_type": "markdown",
   "id": "1e9aa890-6015-4d2f-9810-416e15edf027",
   "metadata": {},
   "source": [
    "# Creating a Class for Video Mixing Block"
   ]
  },
  {
   "cell_type": "code",
   "execution_count": 1,
   "id": "8c1400c0-c27c-4b8a-ad91-a25ea3028ac2",
   "metadata": {},
   "outputs": [
    {
     "data": {
      "application/javascript": [
       "\n",
       "try {\n",
       "require(['notebook/js/codecell'], function(codecell) {\n",
       "  codecell.CodeCell.options_default.highlight_modes[\n",
       "      'magic_text/x-csrc'] = {'reg':[/^%%microblaze/]};\n",
       "  Jupyter.notebook.events.one('kernel_ready.Kernel', function(){\n",
       "      Jupyter.notebook.get_cells().map(function(cell){\n",
       "          if (cell.cell_type == 'code'){ cell.auto_highlight(); } }) ;\n",
       "  });\n",
       "});\n",
       "} catch (e) {};\n"
      ]
     },
     "metadata": {},
     "output_type": "display_data"
    },
    {
     "data": {
      "application/javascript": [
       "\n",
       "try {\n",
       "require(['notebook/js/codecell'], function(codecell) {\n",
       "  codecell.CodeCell.options_default.highlight_modes[\n",
       "      'magic_text/x-csrc'] = {'reg':[/^%%pybind11/]};\n",
       "  Jupyter.notebook.events.one('kernel_ready.Kernel', function(){\n",
       "      Jupyter.notebook.get_cells().map(function(cell){\n",
       "          if (cell.cell_type == 'code'){ cell.auto_highlight(); } }) ;\n",
       "  });\n",
       "});\n",
       "} catch (e) {};\n"
      ]
     },
     "metadata": {},
     "output_type": "display_data"
    }
   ],
   "source": [
    "from pynq import Overlay\n",
    "import pynq.lib.video\n",
    "import pynq.lib.audio\n",
    "from pynq import DefaultIP\n",
    "from pynq import allocate"
   ]
  },
  {
   "cell_type": "code",
   "execution_count": 2,
   "id": "65703380-e017-43cb-aa0f-3f79c97b44ee",
   "metadata": {},
   "outputs": [],
   "source": [
    "from PPFunctions_Live import *\n",
    "from matplotlib import pyplot as plt\n",
    "import numpy as np\n",
    "import cv2"
   ]
  },
  {
   "cell_type": "code",
   "execution_count": 3,
   "id": "becbfb35-217e-42c9-98b2-0a3b3a70a9a9",
   "metadata": {},
   "outputs": [],
   "source": [
    "class VideoMixer(DefaultIP):\n",
    "    def __init__(self, description):\n",
    "        super().__init__(description=description)\n",
    "        self._MAX_HEIGHT = 1080\n",
    "        self._MAX_WIDTH = 1920\n",
    "        \n",
    "    bindto = ['xilinx.com:ip:v_mix:5.1']\n",
    "    \n",
    "    ## Layer Enable Properties:\n",
    "    @property\n",
    "    def en_layer(self):\n",
    "        return self.read(0x40)\n",
    "    \n",
    "    @en_layer.setter\n",
    "    def en_layer(self, layer_id):\n",
    "        return self.write(0x40, layer_id)\n",
    "    \n",
    "    ## Base Layer Properties:\n",
    "    @property\n",
    "    def _control(self):\n",
    "        return self.read(0x00)\n",
    "    \n",
    "    @_control.setter\n",
    "    def _control(self, value):\n",
    "        return self.write(0x00, value)\n",
    "    \n",
    "    @property\n",
    "    def base_width(self):\n",
    "        return self.read(0x10)\n",
    "    \n",
    "    @base_width.setter\n",
    "    def base_width(self, w_value):\n",
    "        if (w_value < 64) and (w_value > self._MAX_WIDTH):\n",
    "            raise ValueError('Bad Width!')\n",
    "        if type(w_value) != int:\n",
    "            raise TypeError('Bad Width Datatype!')\n",
    "        self.write(0x10, w_value)\n",
    "        \n",
    "    @property\n",
    "    def base_height(self):\n",
    "        return self.read(0x18)\n",
    "    \n",
    "    @base_height.setter\n",
    "    def base_height(self, h_value):\n",
    "        if (h_value < 64) or (h_value > self._MAX_HEIGHT):\n",
    "            raise ValueError('Bad Height!')\n",
    "        if type(h_value) != int:\n",
    "            raise TypeError('Bad Height Datatype!')\n",
    "        self.write(0x18, h_value)\n",
    "    \n",
    "    ## 1st Overlay Properties:\n",
    "        ## Alpha Value of Overlay:\n",
    "    @property\n",
    "    def first_alpha(self):\n",
    "        return self.read(0x200)\n",
    "    @first_alpha.setter\n",
    "    def first_alpha(self, alpha_value):\n",
    "        if (alpha_value < 0) or (alpha_value > 256):\n",
    "            raise ValueError('Alpha Value Outside Conditions')\n",
    "        self.write(0x200, alpha_value)\n",
    "    \n",
    "        ## Defining the Coordinates of X and Y Positions of the Overlay:\n",
    "    @property\n",
    "    def start_x(self):\n",
    "        return self.read(0x208)\n",
    "    @start_x.setter\n",
    "    def start_x(self, x_value):\n",
    "        if (x_value < 0) or (x_value > self._MAX_WIDTH):\n",
    "             raise ValueError('x value outwith width constraints')\n",
    "        if type(x_value) != int:\n",
    "            raise TypeError('Bad Height Datatype!')\n",
    "        self.write(0x208, x_value)\n",
    "    @property\n",
    "    def start_y(self):\n",
    "        return self.read(0x210)\n",
    "    @start_y.setter\n",
    "    def start_y(self, y_value):\n",
    "        if (y_value < 0) or (y_value > self._MAX_HEIGHT):\n",
    "             raise ValueError('y value outwith height constraints')\n",
    "        if type(y_value) != int:\n",
    "            raise TypeError('Bad Height Datatype!')\n",
    "        self.write(0x210, y_value)\n",
    "        \n",
    "        ## Defining width and height of overlaid image:\n",
    "    @property\n",
    "    def layer_width(self):\n",
    "        return self.read(0x218)\n",
    "    @layer_width.setter\n",
    "    def layer_width(self, lw_value):\n",
    "        if (lw_value < 0) or (lw_value > self._MAX_WIDTH):\n",
    "            raise ValueError('Bad Width!')\n",
    "        if type(lw_value) != int:\n",
    "            raise TypeError('Bad Width Datatype!')\n",
    "        self.write(0x218, lw_value)\n",
    "    \n",
    "    @property\n",
    "    def layer_height(self):\n",
    "        return self.read(0x228)\n",
    "    @layer_height.setter\n",
    "    def layer_height(self, lh_value):\n",
    "        if (lh_value < 0) or (lh_value > self._MAX_WIDTH):\n",
    "            raise ValueError('Bad Width!')\n",
    "        if type(lh_value) != int:\n",
    "            raise TypeError('Bad Width Datatype!')\n",
    "        self.write(0x228, lh_value)\n",
    "    \n",
    "    ## Starting Class with Internal Operations:\n",
    "    def start(self):\n",
    "        self._control = 137\n",
    "\n",
    "class VideoOverlay(Overlay):\n",
    "    def __init__(self, bitstream, **kwargs):\n",
    "        super().__init__(bitstream, **kwargs)\n",
    "        \n",
    "        self.audio = self.audio_codec_ctrl_0\n",
    "        self.audio.configure()"
   ]
  },
  {
   "cell_type": "code",
   "execution_count": null,
   "id": "24cdc153-f19a-4618-bbdc-ff772a4e924b",
   "metadata": {},
   "outputs": [],
   "source": [
    "class VideoMixer(DefaultIP):\n",
    "    def __init__(self, description):\n",
    "        super().__init__(description=description)\n",
    "        self._MAX_HEIGHT = 1080\n",
    "        self._MAX_WIDTH = 1920\n",
    "        \n",
    "    bindto = ['xilinx.com:ip:v_mix:5.1']\n",
    "    \n",
    "    ## Layer Enable Properties:\n",
    "    @property\n",
    "    def en_layer(self):\n",
    "        return self.read(0x40)\n",
    "    @en_layer.setter\n",
    "    def en_layer(self, layer_id):\n",
    "        return self.write(0x40, layer_id)\n",
    "    \n",
    "    ## Base Layer Properties:\n",
    "    @property\n",
    "    def _control(self):\n",
    "        return self.read(0x00)\n",
    "    @_control.setter\n",
    "    def _control(self, value):\n",
    "        return self.write(0x00, value)\n",
    "    \n",
    "    @property\n",
    "    def base_width(self):\n",
    "        return self.read(0x10)\n",
    "    @base_width.setter\n",
    "    def base_width(self, w_value):\n",
    "        if (w_value < 64) and (w_value > self._MAX_WIDTH):\n",
    "            raise ValueError('Bad Width!')\n",
    "        if type(w_value) != int:\n",
    "            raise TypeError('Bad Width Datatype!')\n",
    "        self.write(0x10, w_value)\n",
    "        \n",
    "    @property\n",
    "    def base_height(self):\n",
    "        return self.read(0x18)\n",
    "    @base_height.setter\n",
    "    def base_height(self, h_value):\n",
    "        if (h_value < 64) or (h_value > self._MAX_HEIGHT):\n",
    "            raise ValueError('Bad Height!')\n",
    "        if type(h_value) != int:\n",
    "            raise TypeError('Bad Height Datatype!')\n",
    "        self.write(0x18, h_value)\n",
    "    \n",
    "    ## Starting Class with Internal Operations:\n",
    "    def start(self):\n",
    "        self._control = 137\n",
    "\n",
    "class VideoOverlay(Overlay):\n",
    "    def __init__(self, bitstream, **kwargs):\n",
    "        super().__init__(bitstream, **kwargs)\n",
    "        \n",
    "        self.audio = self.audio_codec_ctrl_0\n",
    "        self.audio.configure()"
   ]
  },
  {
   "cell_type": "markdown",
   "id": "bd74219a-eab6-4154-ac59-a1faa07a800f",
   "metadata": {},
   "source": [
    "## Creating Instance of VDMA"
   ]
  },
  {
   "cell_type": "markdown",
   "id": "c8248ab0-f89e-45c0-966c-734e3b0f7852",
   "metadata": {},
   "source": [
    "## Following Blocks are Used to Project 1 Layer:"
   ]
  },
  {
   "cell_type": "code",
   "execution_count": 3,
   "id": "eae6e1d8-bfdd-4aea-b7ac-acd591340be8",
   "metadata": {},
   "outputs": [
    {
     "ename": "NameError",
     "evalue": "name 'VideoOverlay' is not defined",
     "output_type": "error",
     "traceback": [
      "\u001b[0;31m---------------------------------------------------------------------------\u001b[0m",
      "\u001b[0;31mNameError\u001b[0m                                 Traceback (most recent call last)",
      "\u001b[0;32m<ipython-input-3-20061e800741>\u001b[0m in \u001b[0;36m<module>\u001b[0;34m\u001b[0m\n\u001b[1;32m      1\u001b[0m \u001b[0;31m# ol = VideoOverlay('layer0_pynq_s2t.bit')\u001b[0m\u001b[0;34m\u001b[0m\u001b[0;34m\u001b[0m\u001b[0;34m\u001b[0m\u001b[0m\n\u001b[0;32m----> 2\u001b[0;31m \u001b[0mol\u001b[0m \u001b[0;34m=\u001b[0m \u001b[0mVideoOverlay\u001b[0m\u001b[0;34m(\u001b[0m\u001b[0;34m'pynq_s2t.bit'\u001b[0m\u001b[0;34m)\u001b[0m\u001b[0;34m\u001b[0m\u001b[0;34m\u001b[0m\u001b[0m\n\u001b[0m\u001b[1;32m      3\u001b[0m \u001b[0mol\u001b[0m\u001b[0;34m.\u001b[0m\u001b[0mvideo_mixer\u001b[0m\u001b[0;34m.\u001b[0m\u001b[0mstart\u001b[0m\u001b[0;34m(\u001b[0m\u001b[0;34m)\u001b[0m\u001b[0;34m\u001b[0m\u001b[0;34m\u001b[0m\u001b[0m\n",
      "\u001b[0;31mNameError\u001b[0m: name 'VideoOverlay' is not defined"
     ]
    }
   ],
   "source": [
    "# ol = VideoOverlay('layer0_pynq_s2t.bit')\n",
    "ol = VideoOverlay('pynq_s2t.bit')\n",
    "ol.video_mixer.start()"
   ]
  },
  {
   "cell_type": "code",
   "execution_count": null,
   "id": "83834eb2-cc47-4872-a0e2-e71ec6ecad88",
   "metadata": {},
   "outputs": [],
   "source": [
    "# frame_height = 1079\n",
    "# frame_width = 1440\n",
    "frame_height = 1080\n",
    "frame_width = 1920"
   ]
  },
  {
   "cell_type": "code",
   "execution_count": 5,
   "id": "9ee6cb91-edeb-4908-9332-f372fef73bfd",
   "metadata": {},
   "outputs": [],
   "source": [
    "# 1920 x 1080 Monitor but that is larger than the \n",
    "ol.video_mixer.base_height = 1080\n",
    "ol.video_mixer.base_width = 1920\n",
    "\n",
    "ol.video_mixer.base_height = frame_height\n",
    "ol.video_mixer.base_width = frame_width\n",
    "\n",
    "ol.video_mixer.en_layer = 1  # if base layer alone"
   ]
  },
  {
   "cell_type": "code",
   "execution_count": 6,
   "id": "fb3b7113-2475-412c-8e6b-cef2db33c478",
   "metadata": {},
   "outputs": [],
   "source": [
    "hdmi_in = ol.video.hdmi_in\n",
    "hdmi_out = ol.video.hdmi_out"
   ]
  },
  {
   "cell_type": "code",
   "execution_count": 7,
   "id": "198db7be-9149-44cd-8f5c-3aed9ee05fb2",
   "metadata": {},
   "outputs": [
    {
     "data": {
      "text/plain": [
       "<contextlib._GeneratorContextManager at 0xa1beec88>"
      ]
     },
     "execution_count": 7,
     "metadata": {},
     "output_type": "execute_result"
    }
   ],
   "source": [
    "hdmi_in.configure()\n",
    "hdmi_out.configure(hdmi_in.mode)\n",
    "\n",
    "hdmi_in.start()\n",
    "hdmi_out.start()"
   ]
  },
  {
   "cell_type": "code",
   "execution_count": 8,
   "id": "3b89ac14-a6ac-43b3-88c2-b92ab8dc5d20",
   "metadata": {},
   "outputs": [],
   "source": [
    "hdmi_in.tie(hdmi_out)"
   ]
  },
  {
   "cell_type": "code",
   "execution_count": 9,
   "id": "3fef0952-6eba-42a4-8bf2-01a2884f604c",
   "metadata": {},
   "outputs": [],
   "source": [
    "hdmi_out.close()\n",
    "hdmi_in.close()"
   ]
  },
  {
   "cell_type": "markdown",
   "id": "e3750fcf-886f-4740-9960-63621391dbf5",
   "metadata": {},
   "source": [
    "## Base Layer With Overlay:"
   ]
  },
  {
   "cell_type": "code",
   "execution_count": 5,
   "id": "2cb4a138-8b2b-4a5c-a28b-f4e5dccc7e7f",
   "metadata": {},
   "outputs": [],
   "source": [
    "ol = VideoOverlay('pynq_s2t.bit')\n",
    "ol.video_mixer.start()"
   ]
  },
  {
   "cell_type": "markdown",
   "id": "355decc4-c9f5-4abc-bcdb-027c27159e5d",
   "metadata": {},
   "source": [
    "### Frame Conditions:"
   ]
  },
  {
   "cell_type": "code",
   "execution_count": 10,
   "id": "8c7fa533-c689-4c45-bd2d-3332f5e2ae76",
   "metadata": {},
   "outputs": [],
   "source": [
    "frame_height = 1079\n",
    "frame_width = 1440"
   ]
  },
  {
   "cell_type": "markdown",
   "id": "1674cefc-24d7-4c31-af95-7bad38c65b2c",
   "metadata": {},
   "source": [
    "### Overlay Conditions:"
   ]
  },
  {
   "cell_type": "code",
   "execution_count": 11,
   "id": "83a8b760-f8d4-4f33-8103-88498c990a58",
   "metadata": {},
   "outputs": [],
   "source": [
    "    # Number of Active Layers:\n",
    "layer_number = 2**0 + 2**1  \n",
    "\n",
    "    # Top left Coordinates of the overlay \n",
    "topleft_x = int(10)\n",
    "topleft_y = int(frame_height - 50)\n",
    "\n",
    "    # width and height of the overlay\n",
    "overlay_width = int(frame_width - 2 * topleft_x)\n",
    "overlay_height = int(40)\n",
    "\n",
    "    # alpha value of overlay\n",
    "alpha_val = 255"
   ]
  },
  {
   "cell_type": "markdown",
   "id": "88700930-093e-4aaf-807e-7d58a6e6fd7e",
   "metadata": {},
   "source": [
    "### Colour space"
   ]
  },
  {
   "cell_type": "code",
   "execution_count": 12,
   "id": "67c3037d-e952-48ba-b78c-a9d6cdaae6ce",
   "metadata": {},
   "outputs": [],
   "source": [
    "colorspace_in = ol.video.hdmi_in.color_convert\n",
    "colorspace_out = ol.video.hdmi_out.color_convert\n",
    "\n",
    "bgr2rgb = [0, 0, 1,\n",
    "           0, 1, 0, \n",
    "           1, 0, 0,\n",
    "           0, 0, 0]\n",
    "\n",
    "colorspace_in.colorspace = bgr2rgb\n",
    "colorspace_out.colorspace = bgr2rgb"
   ]
  },
  {
   "cell_type": "markdown",
   "id": "f90638ce-4165-4035-a5f1-964d166155df",
   "metadata": {},
   "source": [
    "### Defining the Output Layer Operations:"
   ]
  },
  {
   "cell_type": "code",
   "execution_count": 13,
   "id": "334b836f-9e81-4147-9686-c1eeb42cb2fb",
   "metadata": {},
   "outputs": [],
   "source": [
    "ol.video_mixer.en_layer = layer_number  \n",
    "\n",
    "## Physical Shape of the Frame:\n",
    "ol.video_mixer.base_height = frame_height\n",
    "ol.video_mixer.base_width = frame_width\n",
    "\n",
    "ol.video_mixer.start_x = topleft_x\n",
    "ol.video_mixer.start_y = topleft_y\n",
    "\n",
    "ol.video_mixer.layer_height = overlay_height\n",
    "ol.video_mixer.layer_width = overlay_width\n",
    "\n",
    "ol.video_mixer.first_alpha = alpha_val"
   ]
  },
  {
   "cell_type": "markdown",
   "id": "716bcfad-4c33-47e9-b315-db12467bdcc4",
   "metadata": {},
   "source": [
    "### Defining the Input and Output HDMI Blocks:"
   ]
  },
  {
   "cell_type": "code",
   "execution_count": 14,
   "id": "33ed3c8c-85b9-4966-99f7-e8112e29ec01",
   "metadata": {},
   "outputs": [],
   "source": [
    "hdmi_in = ol.video.hdmi_in\n",
    "hdmi_out = ol.video.hdmi_out"
   ]
  },
  {
   "cell_type": "code",
   "execution_count": 15,
   "id": "e742b20e-be59-4629-acad-3b4f00906d9b",
   "metadata": {},
   "outputs": [
    {
     "data": {
      "text/plain": [
       "<contextlib._GeneratorContextManager at 0xa1bf9b20>"
      ]
     },
     "execution_count": 15,
     "metadata": {},
     "output_type": "execute_result"
    }
   ],
   "source": [
    "hdmi_in.configure() \n",
    "hdmi_out.configure(hdmi_in.mode)\n",
    "\n",
    "hdmi_in.start()\n",
    "hdmi_out.start()"
   ]
  },
  {
   "cell_type": "markdown",
   "id": "dfc4f48d-f4c1-4aa2-9b2c-d83e0b9ac6be",
   "metadata": {},
   "source": [
    "### Writing image to VDMA"
   ]
  },
  {
   "cell_type": "code",
   "execution_count": 9,
   "id": "481cc2cd-a4f4-427e-9901-bd33976f81b0",
   "metadata": {},
   "outputs": [
    {
     "data": {
      "image/png": "[encoded data removed]",
      "text/plain": [
       "<Figure size 432x288 with 1 Axes>"
      ]
     },
     "metadata": {
      "needs_background": "light"
     },
     "output_type": "display_data"
    }
   ],
   "source": [
    "## creating black frame with optional subtitles on top:\n",
    "data = np.zeros((overlay_height, overlay_width), dtype=np.uint8)\n",
    "tr = overlay_width, 0     # top right coordinate\n",
    "bl = 0, overlay_height    # bottom left coordinate\n",
    "\n",
    "frame = cv2.rectangle(data, tr, bl, (0, 0, 0), -1)\n",
    "\n",
    "plt.imshow(frame)\n",
    "plt.title('Subtitled Output Test:')\n",
    "plt.show()"
   ]
  },
  {
   "cell_type": "code",
   "execution_count": 10,
   "id": "d1249262-33e2-4169-8f2f-f4988c791712",
   "metadata": {},
   "outputs": [
    {
     "data": {
      "text/plain": [
       "38"
      ]
     },
     "execution_count": 10,
     "metadata": {},
     "output_type": "execute_result"
    }
   ],
   "source": [
    "bl = 0, overlay_height\n",
    "\n",
    "\n",
    "ba = (bl[1] - 2)\n",
    "ba"
   ]
  },
  {
   "cell_type": "code",
   "execution_count": 15,
   "id": "bc75853e-acb0-4db8-8532-570a9f62f183",
   "metadata": {},
   "outputs": [],
   "source": [
    "def putText(frame, sub, bl):\n",
    "    clone = frame.copy()\n",
    "    \n",
    "    bl_x = bl[0]\n",
    "    bl_y = (bl[1] - 2)\n",
    "    \n",
    "    # font constraints for opencv put text:\n",
    "    font = cv2.FONT_HERSHEY_SIMPLEX\n",
    "    font_scale = 1.4\n",
    "\n",
    "    # Image Variables to display text on rectangle:\n",
    "    image = cv2.putText(clone, sub, (bl_x, bl_y), font, font_scale, (255, 255, 255), 2, cv2.LINE_AA)\n",
    "    \n",
    "    return image"
   ]
  },
  {
   "cell_type": "code",
   "execution_count": 16,
   "id": "6c48a6a6-d52a-459d-82e6-1a09322384c5",
   "metadata": {},
   "outputs": [
    {
     "data": {
      "image/png": "[encoded data removed]",
      "text/plain": [
       "<Figure size 432x288 with 1 Axes>"
      ]
     },
     "metadata": {
      "needs_background": "light"
     },
     "output_type": "display_data"
    }
   ],
   "source": [
    "sub = \"please work\"\n",
    "image = putText(frame, sub, bl)\n",
    "\n",
    "plt.imshow(image)\n",
    "plt.title('Subtitled Output Test:')\n",
    "plt.show()"
   ]
  },
  {
   "cell_type": "markdown",
   "id": "e8c244dc-7062-41db-a55d-01c1c08f8640",
   "metadata": {},
   "source": [
    "### Writing to the Output of the Video Mixer:"
   ]
  },
  {
   "cell_type": "code",
   "execution_count": 16,
   "id": "20d91e4a-3383-4a1b-bc74-7365d59ac363",
   "metadata": {},
   "outputs": [],
   "source": [
    "hdmi_in.tie(hdmi_out)"
   ]
  },
  {
   "cell_type": "code",
   "execution_count": 17,
   "id": "50e546e8-8777-4005-ad28-c4a2eaf1fff5",
   "metadata": {},
   "outputs": [],
   "source": [
    "hdmi_out.close()\n",
    "hdmi_in.close()"
   ]
  },
  {
   "cell_type": "code",
   "execution_count": null,
   "id": "df6deaa3-c5f8-482f-be6c-587176b0bac0",
   "metadata": {},
   "outputs": [],
   "source": []
  }
 ],
 "metadata": {
  "kernelspec": {
   "display_name": "Python 3",
   "language": "python",
   "name": "python3"
  },
  "language_info": {
   "codemirror_mode": {
    "name": "ipython",
    "version": 3
   },
   "file_extension": ".py",
   "mimetype": "text/x-python",
   "name": "python",
   "nbconvert_exporter": "python",
   "pygments_lexer": "ipython3",
   "version": "3.8.2"
  }
 },
 "nbformat": 4,
 "nbformat_minor": 5
}
