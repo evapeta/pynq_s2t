{
 "cells": [
  {
   "cell_type": "markdown",
   "id": "982a9b66-b9f0-4651-aff8-be2ac40f8ab4",
   "metadata": {},
   "source": [
    "# Transcription of Local File:\n",
    "Using the microphone and a .wav file of over 278400 bytes (0.278 MB),\n",
    "Rev.ai's speech to text sdk can be used to transcribe text. \n",
    "In this example, the source audio file for the Pynq labs was used.\n",
    "## Importing Relavent Packages:"
   ]
  },
  {
   "cell_type": "code",
   "execution_count": 1,
   "id": "ac799cb8-22a5-4c3f-b87b-816dd2f49fe4",
   "metadata": {},
   "outputs": [],
   "source": [
    "from rev_ai import apiclient\n",
    "from time import sleep\n",
    "\n",
    "import os\n",
    "from os import path\n",
    "import wave\n",
    "import json\n",
    "import numpy as np"
   ]
  },
  {
   "cell_type": "markdown",
   "id": "08e0809e-7002-4851-bde8-f544917db92c",
   "metadata": {},
   "source": [
    "## Defining Relavent Tokens and Filepaths:"
   ]
  },
  {
   "cell_type": "code",
   "execution_count": 4,
   "id": "0fa3c95a-c0db-4649-98f7-39ff056740be",
   "metadata": {},
   "outputs": [],
   "source": [
    "token = \"020xN8wEvpFJ57K5xz4CjnhKVkC0kDJO74fKvx58chPRJQHUChMfrQyTWWooMnfO5H5kyGiVdHJHSroppSQFIU9g69v2E\"\n",
    "filepath_ext = \"./../../base/audio/recording_0.wav\" # Submit a local file for transcription\n",
    "filepath = \"./TestData/TheRaven.wav\" # file contained within the same cwd"
   ]
  },
  {
   "cell_type": "markdown",
   "id": "794bd9e9-40da-4d1a-9d64-cafe2a57a1c5",
   "metadata": {},
   "source": [
    "## Loading Audio File into Jupyter Notebook:"
   ]
  },
  {
   "cell_type": "code",
   "execution_count": 3,
   "id": "6c21d1e3-2568-4df3-b264-56e68a892f0b",
   "metadata": {},
   "outputs": [
    {
     "data": {
      "application/javascript": [
       "\n",
       "try {\n",
       "require(['notebook/js/codecell'], function(codecell) {\n",
       "  codecell.CodeCell.options_default.highlight_modes[\n",
       "      'magic_text/x-csrc'] = {'reg':[/^%%microblaze/]};\n",
       "  Jupyter.notebook.events.one('kernel_ready.Kernel', function(){\n",
       "      Jupyter.notebook.get_cells().map(function(cell){\n",
       "          if (cell.cell_type == 'code'){ cell.auto_highlight(); } }) ;\n",
       "  });\n",
       "});\n",
       "} catch (e) {};\n"
      ]
     },
     "metadata": {},
     "output_type": "display_data"
    },
    {
     "data": {
      "application/javascript": [
       "\n",
       "try {\n",
       "require(['notebook/js/codecell'], function(codecell) {\n",
       "  codecell.CodeCell.options_default.highlight_modes[\n",
       "      'magic_text/x-csrc'] = {'reg':[/^%%pybind11/]};\n",
       "  Jupyter.notebook.events.one('kernel_ready.Kernel', function(){\n",
       "      Jupyter.notebook.get_cells().map(function(cell){\n",
       "          if (cell.cell_type == 'code'){ cell.auto_highlight(); } }) ;\n",
       "  });\n",
       "});\n",
       "} catch (e) {};\n"
      ]
     },
     "metadata": {},
     "output_type": "display_data"
    }
   ],
   "source": [
    "from pynq.overlays.base import BaseOverlay\n",
    "base = BaseOverlay(\"base.bit\")\n",
    "pAudio = base.audio\n",
    "pAudio.select_microphone()"
   ]
  },
  {
   "cell_type": "code",
   "execution_count": 5,
   "id": "8dd72af5-9b92-44ce-8076-4034ffd4efd9",
   "metadata": {},
   "outputs": [
    {
     "name": "stdout",
     "output_type": "stream",
     "text": [
      "CPU times: user 0 ns, sys: 75.1 ms, total: 75.1 ms\n",
      "Wall time: 435 ms\n"
     ]
    }
   ],
   "source": [
    "%%time\n",
    "\n",
    "with wave.open(filepath, 'r') as wav_file:\n",
    "    raw_frames = wav_file.readframes(-1)\n",
    "    num_frames = wav_file.getnframes()\n",
    "    num_channels = wav_file.getnchannels()\n",
    "    sample_rate = wav_file.getframerate()\n",
    "    sample_width = wav_file.getsampwidth()"
   ]
  },
  {
   "cell_type": "markdown",
   "id": "96801791-a9be-4bf0-ba0c-d4492b2a119d",
   "metadata": {},
   "source": [
    "## Contacting Rev.ai's SDK to Transcribe Video:"
   ]
  },
  {
   "cell_type": "code",
   "execution_count": 14,
   "id": "fd853843-0d41-4957-afd5-d9b6402a956c",
   "metadata": {},
   "outputs": [],
   "source": [
    "def localfile(token, filepath):\n",
    "    # initialize Rev AI API client\n",
    "    client = apiclient.RevAiAPIClient(token)\n",
    "\n",
    "    # submit a file for transcription\n",
    "    job = client.submit_job_local_file(filepath)\n",
    "\n",
    "    # get job id\n",
    "    job_id = job.id\n",
    "    print(\"Job submitted with id: \" + job_id)\n",
    "\n",
    "    # check job status\n",
    "    while (job.status.name == 'IN_PROGRESS'):\n",
    "        details = client.get_job_details(job_id)\n",
    "        print(\"Job status: \" + details.status.name)\n",
    "\n",
    "        # if successful, print result\n",
    "        if (details.status.name == 'TRANSCRIBED'):\n",
    "            # print(client.get_transcript_json(job_id))\n",
    "            # print(client.get_transcript_text(job_id))\n",
    "            json_transcript = client.get_transcript_json(job_id)\n",
    "            text_transcript = client.get_transcript_text(job_id)\n",
    "            break\n",
    "\n",
    "        # if unsuccessful, print error\n",
    "        if (details.status.name == 'FAILED'):\n",
    "            print(\"Job failed: \" + details.failure_detail)\n",
    "            break\n",
    "\n",
    "        sleep(30)\n",
    "\n",
    "    return json_transcript, text_transcript"
   ]
  },
  {
   "cell_type": "markdown",
   "id": "06c48f97-b357-4d27-ae8c-c651635d07fd",
   "metadata": {},
   "source": [
    "## Writing .json and .txt files to an output:"
   ]
  },
  {
   "cell_type": "code",
   "execution_count": 15,
   "id": "bc070bc2-1668-4499-8118-5c568982a2f6",
   "metadata": {},
   "outputs": [],
   "source": [
    "def file_generation(filepath, json_transcript, text_transcript):\n",
    "\n",
    "    # Split the path in head and tail pair \n",
    "    head_tail = os.path.split(filepath)\n",
    "\n",
    "    # print tail part of the path\n",
    "    head = str(head_tail[1])\n",
    "    Head = head.split(\".\")\n",
    "\n",
    "    # separate into json and text files\n",
    "    audio_file_json = Head[0]+'.json'\n",
    "    audio_file_txt = Head[0]+'.txt'\n",
    "\n",
    "    cwd = os.getcwd()\n",
    "    json_audiofilename = os.path.join(cwd, str(audio_file_json))\n",
    "    txt_audiofilename = os.path.join(cwd, str(audio_file_txt))\n",
    "\n",
    "    # Writing contents to outfiles:\n",
    "    with open(json_audiofilename, \"w\") as outfile:\n",
    "        json.dump(json_transcript, outfile)\n",
    "\n",
    "    with open(txt_audiofilename, \"w\") as outfile:\n",
    "        outfile.write(text_transcript)\n",
    "    \n",
    "    return json_audiofilename, txt_audiofilename"
   ]
  },
  {
   "cell_type": "markdown",
   "id": "75612854-cd3b-4a0b-b1ff-c46569cedea6",
   "metadata": {},
   "source": [
    "## Calling functions:\n",
    "Also, printing output for easy comparison for its working."
   ]
  },
  {
   "cell_type": "code",
   "execution_count": 16,
   "id": "e4e86526-17bc-49f3-8b15-39f7c23c1dbe",
   "metadata": {},
   "outputs": [
    {
     "name": "stdout",
     "output_type": "stream",
     "text": [
      "Job submitted with id: 4aYV2CXKmBgLLJPY\n",
      "Job status: IN_PROGRESS\n",
      "Job status: TRANSCRIBED\n",
      "Speaker 0    00:00:02    Months upon the midnight, dreary while I pondered weak in weary over many acquainting curious volume of forgotten law while I nodded nearly napping. Suddenly there came a tapping as of someone gently wrapping. Wrapping it, my chamber door, dear some visitor Imed tapping at my chamber door. Only this and nothing more. Ah, distinctly, I remember it was in the bleak December, and it's separate dying Ember brought its ghost upon the floor. Eagerly. I wish the Mor ve had, I saw two burrow from my book's, Cecila Sorrow. Sorrow for the Lost, Leno for the Ram. Radiant Maton, whom the angels named Lenore Nameless here forevermore and. \n",
      "\n"
     ]
    }
   ],
   "source": [
    "[json_transcript, text_transcript] = localfile(token, filepath)\n",
    "[json_audiofilename, txt_audiofilename] = file_generation(filepath, json_transcript, text_transcript)\n",
    "print(text_transcript)"
   ]
  },
  {
   "cell_type": "code",
   "execution_count": null,
   "id": "4d274547-92ff-4dbd-bcb5-48cd9a9b01aa",
   "metadata": {},
   "outputs": [],
   "source": []
  }
 ],
 "metadata": {
  "kernelspec": {
   "display_name": "Python 3",
   "language": "python",
   "name": "python3"
  },
  "language_info": {
   "codemirror_mode": {
    "name": "ipython",
    "version": 3
   },
   "file_extension": ".py",
   "mimetype": "text/x-python",
   "name": "python",
   "nbconvert_exporter": "python",
   "pygments_lexer": "ipython3",
   "version": "3.8.2"
  }
 },
 "nbformat": 4,
 "nbformat_minor": 5
}
