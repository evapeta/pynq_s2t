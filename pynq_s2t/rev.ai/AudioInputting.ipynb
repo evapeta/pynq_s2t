{
 "cells": [
  {
   "cell_type": "code",
   "execution_count": null,
   "id": "c8871153-4e8f-4682-bd13-e4fa3ddb805c",
   "metadata": {},
   "outputs": [],
   "source": [
    "import numpy as np\n",
    "import time\n",
    "import ipywidgets as ipw"
   ]
  },
  {
   "cell_type": "code",
   "execution_count": 1,
   "id": "4fed5306-ad48-4380-8b7c-640b3ed4f305",
   "metadata": {},
   "outputs": [
    {
     "data": {
      "application/javascript": [
       "\n",
       "try {\n",
       "require(['notebook/js/codecell'], function(codecell) {\n",
       "  codecell.CodeCell.options_default.highlight_modes[\n",
       "      'magic_text/x-csrc'] = {'reg':[/^%%microblaze/]};\n",
       "  Jupyter.notebook.events.one('kernel_ready.Kernel', function(){\n",
       "      Jupyter.notebook.get_cells().map(function(cell){\n",
       "          if (cell.cell_type == 'code'){ cell.auto_highlight(); } }) ;\n",
       "  });\n",
       "});\n",
       "} catch (e) {};\n"
      ]
     },
     "metadata": {},
     "output_type": "display_data"
    },
    {
     "data": {
      "application/javascript": [
       "\n",
       "try {\n",
       "require(['notebook/js/codecell'], function(codecell) {\n",
       "  codecell.CodeCell.options_default.highlight_modes[\n",
       "      'magic_text/x-csrc'] = {'reg':[/^%%pybind11/]};\n",
       "  Jupyter.notebook.events.one('kernel_ready.Kernel', function(){\n",
       "      Jupyter.notebook.get_cells().map(function(cell){\n",
       "          if (cell.cell_type == 'code'){ cell.auto_highlight(); } }) ;\n",
       "  });\n",
       "});\n",
       "} catch (e) {};\n"
      ]
     },
     "metadata": {},
     "output_type": "display_data"
    }
   ],
   "source": [
    "from pynq.overlays.base import BaseOverlay\n",
    "from pynq.lib.video import *\n",
    "base = BaseOverlay(\"base.bit\")\n",
    "\n",
    "pAudio = base.audio\n",
    "pAudio.set_volume(20)\n",
    "pAudio.select_microphone() # using AUX cable connected to Headphones as microphone input"
   ]
  },
  {
   "cell_type": "code",
   "execution_count": null,
   "id": "0d8864fc-61c3-4274-966d-e1267f74ca6e",
   "metadata": {},
   "outputs": [],
   "source": [
    "import plotly.graph_objs as go\n",
    "record_time = 1\n",
    "\n",
    "while True:\n",
    "    pAudio.record(record_time)\n",
    "    temp = pAudio.buffer<<8\n",
    "    left = temp[0::2]\n",
    "    right = temp[1::2]\n",
    "\n",
    "    go.FigureWidget([go.Scatter(y=left), go.Scatter(y=right)])"
   ]
  },
  {
   "cell_type": "code",
   "execution_count": 3,
   "id": "5624d698-799c-440e-ac68-d81cbba7f7bb",
   "metadata": {},
   "outputs": [
    {
     "data": {
      "application/vnd.jupyter.widget-view+json": {
       "model_id": "7e45f7b343da4ddcad46c1b6f37a08e7",
       "version_major": 2,
       "version_minor": 0
      },
      "text/plain": [
       "FigureWidget({\n",
       "    'data': [{'type': 'scatter',\n",
       "              'uid': 'c571621b-5516-4e32-9e11-90fbc36c9b37',\n",
       " …"
      ]
     },
     "metadata": {},
     "output_type": "display_data"
    }
   ],
   "source": [
    "pAudio.record(record_time)\n",
    "temp = pAudio.buffer<<8\n",
    "left = temp[0::2]\n",
    "right = temp[1::2]\n",
    "\n",
    "go.FigureWidget([go.Scatter(y=left), go.Scatter(y=right)])"
   ]
  },
  {
   "cell_type": "code",
   "execution_count": null,
   "id": "95859895-cd93-43e3-9e11-c2e3688b52d0",
   "metadata": {},
   "outputs": [],
   "source": []
  }
 ],
 "metadata": {
  "kernelspec": {
   "display_name": "Python 3",
   "language": "python",
   "name": "python3"
  },
  "language_info": {
   "codemirror_mode": {
    "name": "ipython",
    "version": 3
   },
   "file_extension": ".py",
   "mimetype": "text/x-python",
   "name": "python",
   "nbconvert_exporter": "python",
   "pygments_lexer": "ipython3",
   "version": "3.8.2"
  }
 },
 "nbformat": 4,
 "nbformat_minor": 5
}
